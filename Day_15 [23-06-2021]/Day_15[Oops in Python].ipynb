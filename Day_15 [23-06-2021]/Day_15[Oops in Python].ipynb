{
 "cells": [
  {
   "cell_type": "code",
   "execution_count": null,
   "id": "87db73a8",
   "metadata": {},
   "outputs": [],
   "source": [
    "#Agenda of the day:\n",
    "          1. Polymorphism \n",
    "                - Complie Time - Method Overloading\n",
    "                -  Run Time    - Method Overriding\n",
    "          2. Data Abstraction\n",
    "          \n",
    "          3. Data Encapusaltion & Data Hiding"
   ]
  },
  {
   "cell_type": "code",
   "execution_count": null,
   "id": "38f8f676",
   "metadata": {},
   "outputs": [],
   "source": [
    "#Polymorphism:\n",
    "       Its refers implementing samething in many ways\n",
    "poly-many\n",
    "morphim-forms changing"
   ]
  },
  {
   "cell_type": "code",
   "execution_count": 42,
   "id": "d7d85aa9",
   "metadata": {},
   "outputs": [
    {
     "name": "stdout",
     "output_type": "stream",
     "text": [
      "160\n"
     ]
    }
   ],
   "source": [
    "#compile-Time Ploymorphism:(method overloading)\n",
    "class cploy:\n",
    "    def sums(self,a,b,c=100):\n",
    "        print(a+b+c)\n",
    "  \n",
    "\n",
    "obj=cploy()\n",
    " \n",
    "obj.sums(10,50)\n"
   ]
  },
  {
   "cell_type": "code",
   "execution_count": null,
   "id": "36b0ec1e",
   "metadata": {},
   "outputs": [],
   "source": [
    "# Run Time  Polymorphim  - Method Overriding:\n",
    "#same method name and also same parameters."
   ]
  },
  {
   "cell_type": "code",
   "execution_count": 79,
   "id": "aceb08c2",
   "metadata": {},
   "outputs": [
    {
     "name": "stdout",
     "output_type": "stream",
     "text": [
      "we are using Latest Iphone\n"
     ]
    }
   ],
   "source": [
    "#Example:\n",
    "class OldGen:     #parent class\n",
    "    def UsedMobile(self):                    #parent class method\n",
    "        print(\"We are used Basic Nokia Mobile\")\n",
    "class NewGen(OldGen):                     #child class\n",
    "    def UsedMobile(self):                 #child class method\n",
    "        print(\"we are using Latest Iphone\")\n",
    "obj=NewGen()\n",
    "obj.UsedMobile()"
   ]
  },
  {
   "cell_type": "code",
   "execution_count": null,
   "id": "bd6b880b",
   "metadata": {},
   "outputs": [],
   "source": [
    "#Data Abstraction:\n",
    "Its refers to showing only essential part but hiding the implementing part."
   ]
  },
  {
   "cell_type": "code",
   "execution_count": 57,
   "id": "6d3e3ae3",
   "metadata": {},
   "outputs": [
    {
     "name": "stdout",
     "output_type": "stream",
     "text": [
      "Ur elibile for Flipkart puls offers\n",
      "Ur elibile for Amazon Prime Offers\n"
     ]
    }
   ],
   "source": [
    "#Example:\n",
    "from abc import ABC,abstractmethod\n",
    "class AbstractClass(ABC):               #abstract class\n",
    "    @abstractmethod\n",
    "    def flipkart(self):\n",
    "        None\n",
    "    @abstractmethod\n",
    "    def Amazon(self):\n",
    "        None\n",
    "class PrimeUser(AbstractClass):                         #contrete Class\n",
    "    def flipkart(self):                  #normal classmethods\n",
    "        print(\"Ur elibile for Flipkart puls offers\")\n",
    "    def Amazon(self):\n",
    "        print(\"Ur elibile for Amazon Prime Offers\")\n",
    "obj = PrimeUser()\n",
    "obj.flipkart()\n",
    "obj.Amazon()"
   ]
  },
  {
   "cell_type": "code",
   "execution_count": null,
   "id": "55c18764",
   "metadata": {},
   "outputs": [],
   "source": [
    "#Data Encapuslation & Data Hiding:\n",
    "Encapusaltion is refers to Wrapping up to class methods and variables\n",
    "\n",
    "Data Hiding is refers to restrict the access of the class data members\n",
    "Its done by making class variables and methods as private."
   ]
  },
  {
   "cell_type": "code",
   "execution_count": 78,
   "id": "18d2c10e",
   "metadata": {},
   "outputs": [
    {
     "name": "stdout",
     "output_type": "stream",
     "text": [
      "enter a value500\n",
      "enter b value100\n",
      "100\n",
      "500\n",
      "This is Office Info\n"
     ]
    }
   ],
   "source": [
    "#Example: DataHiding: \n",
    "#(we are making variables as private by using __(doubleunderscore))\n",
    "class Security:\n",
    "    def __init__(self,__a,b):\n",
    "        self.__a=__a             #private  variable\n",
    "        self.b=b                 #public variable\n",
    "    def __info(self,__a,b):      #private class method.\n",
    "        print(self.__a)\n",
    "        print(\"This is Office Info\")\n",
    "    def show(self,__a,b):\n",
    "        self.__info(__a,b)\n",
    "a = int(input(\"enter a value\"))\n",
    "b = int(input(\"enter b value\"))\n",
    "obj = Security(a,b)\n",
    "#print(obj.a)\n",
    "print(obj.b)\n",
    "obj.show(a,b)"
   ]
  },
  {
   "cell_type": "code",
   "execution_count": null,
   "id": "e8ac850d",
   "metadata": {},
   "outputs": [],
   "source": []
  }
 ],
 "metadata": {
  "kernelspec": {
   "display_name": "Python 3",
   "language": "python",
   "name": "python3"
  },
  "language_info": {
   "codemirror_mode": {
    "name": "ipython",
    "version": 3
   },
   "file_extension": ".py",
   "mimetype": "text/x-python",
   "name": "python",
   "nbconvert_exporter": "python",
   "pygments_lexer": "ipython3",
   "version": "3.8.8"
  }
 },
 "nbformat": 4,
 "nbformat_minor": 5
}
