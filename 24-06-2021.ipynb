{
 "cells": [
  {
   "cell_type": "markdown",
   "metadata": {},
   "source": [
    "## Day objectives \n",
    "\n",
    "- Files\n",
    "- Packages and Modules"
   ]
  },
  {
   "cell_type": "markdown",
   "metadata": {},
   "source": [
    "- Files\n",
    "\n",
    "- What is a file?\n",
    "- What is file handling?\n",
    "- File methods\n",
    "- Different modes\n",
    "- Use of with statement?"
   ]
  },
  {
   "cell_type": "markdown",
   "metadata": {},
   "source": [
    "- File\n",
    "    - File is a named location on disk or memory used to store related information\n",
    "    - ex: .ipynb,.txt,.png,.py,.c,.mp3,.mp4 etc\n",
    "    "
   ]
  },
  {
   "cell_type": "markdown",
   "metadata": {},
   "source": [
    "- File handling\n",
    "    - Python too allows file handling and allows users to handle files\n",
    "    - Handling means creating,reading,updating and deleting files."
   ]
  },
  {
   "cell_type": "markdown",
   "metadata": {},
   "source": [
    "- Files Methods\n",
    "\n",
    "- 1. Open(filename,filemode)\n",
    "    - Syntax: file_variable = open(filename,filemode)\n",
    "- 2. close()\n",
    "    - Syntax: file_variable.close()\n",
    "- 3. read(size)\n",
    "    - Syntax: read(size)\n",
    "- 4. readlines()\n",
    "    - Syntax: readlines()\n",
    "   \n",
    "    \n"
   ]
  },
  {
   "cell_type": "markdown",
   "metadata": {},
   "source": [
    "- File objective methods\n",
    "\n",
    "- 1. seek()\n",
    "    - which is used to change the specific position of cursor\n",
    "    - Syntax: seek(integer/position)\n",
    "- 2. tell()\n",
    "    - which is used to get the current position of curson\n",
    "    - Syntax: tell()"
   ]
  },
  {
   "cell_type": "markdown",
   "metadata": {},
   "source": [
    "- File modes\n",
    "- r -->read mode\n",
    "- w -->write mode\n",
    "- a -->append mode\n",
    "- a+ --> append and read\n",
    "- w+ --> write and read\n",
    "- Syntax\n",
    "    - open(filename,'w')"
   ]
  },
  {
   "cell_type": "markdown",
   "metadata": {},
   "source": [
    "- Use of with statement\n",
    "    - No need to mention close methods when you handling the file by with statement"
   ]
  },
  {
   "cell_type": "code",
   "execution_count": 3,
   "metadata": {},
   "outputs": [
    {
     "name": "stdout",
     "output_type": "stream",
     "text": [
      "Opened Succussfully\n"
     ]
    }
   ],
   "source": [
    "f = open('apssdc.txt','r')\n",
    "if f:\n",
    "    print('Opened Succussfully')\n",
    "f.close()"
   ]
  },
  {
   "cell_type": "code",
   "execution_count": 4,
   "metadata": {},
   "outputs": [
    {
     "name": "stdout",
     "output_type": "stream",
     "text": [
      "Good evening everone...!\n",
      "Welcome to python online workshop\n"
     ]
    }
   ],
   "source": [
    "f = open('apssdc.txt')\n",
    "data = f.read()\n",
    "print(data)\n",
    "f.close()"
   ]
  },
  {
   "cell_type": "code",
   "execution_count": 6,
   "metadata": {},
   "outputs": [
    {
     "name": "stdout",
     "output_type": "stream",
     "text": [
      "Good ev\n"
     ]
    }
   ],
   "source": [
    "f = open('apssdc.txt')\n",
    "data = f.read(7)\n",
    "print(data)\n",
    "f.close()"
   ]
  },
  {
   "cell_type": "code",
   "execution_count": 9,
   "metadata": {},
   "outputs": [
    {
     "name": "stdout",
     "output_type": "stream",
     "text": [
      "7\n",
      "15\n"
     ]
    }
   ],
   "source": [
    "## tell()\n",
    "## seek()\n",
    "f = open('apssdc.txt')\n",
    "data = f.read(7)\n",
    "print(f.tell())\n",
    "f.seek(15)\n",
    "print(f.tell())\n",
    "f.close()"
   ]
  },
  {
   "cell_type": "code",
   "execution_count": 10,
   "metadata": {},
   "outputs": [],
   "source": [
    "with open('apssdc.txt','a') as f:\n",
    "    f.write('\\nNow we are discussing wite method')"
   ]
  },
  {
   "cell_type": "code",
   "execution_count": 11,
   "metadata": {},
   "outputs": [],
   "source": [
    "with open('apssdc.txt','w') as f:\n",
    "    f.write('\\nThank you everyone')"
   ]
  },
  {
   "cell_type": "code",
   "execution_count": 13,
   "metadata": {},
   "outputs": [
    {
     "data": {
      "text/plain": [
       "'Thank you everyone'"
      ]
     },
     "execution_count": 13,
     "metadata": {},
     "output_type": "execute_result"
    }
   ],
   "source": [
    "def readFile(filename):\n",
    "    with open(filename,'r') as f:\n",
    "        filedata = f.read()\n",
    "    return filedata\n",
    "\n",
    "readFile('apssdc.txt')\n"
   ]
  },
  {
   "cell_type": "code",
   "execution_count": 19,
   "metadata": {},
   "outputs": [
    {
     "data": {
      "text/plain": [
       "6"
      ]
     },
     "execution_count": 19,
     "metadata": {},
     "output_type": "execute_result"
    }
   ],
   "source": [
    "## read lines in a data of file\n",
    "\n",
    "def readLines(filename):\n",
    "    return len(readFile(filename).split('\\n'))\n",
    "\n",
    "readLines('apssdc.txt')\n",
    "    "
   ]
  },
  {
   "cell_type": "code",
   "execution_count": 31,
   "metadata": {},
   "outputs": [
    {
     "name": "stdout",
     "output_type": "stream",
     "text": [
      "['he hello welcome', 'thank you', 'good evening']\n",
      "3\n"
     ]
    }
   ],
   "source": [
    "l = ['he hello welcome\\nthank you\\ngood evening']\n",
    "l1 = []\n",
    "for i in l:\n",
    "    t = i.split('\\n')\n",
    "    print(t)\n",
    "    print(len(t))\n",
    "    "
   ]
  },
  {
   "cell_type": "code",
   "execution_count": 32,
   "metadata": {},
   "outputs": [
    {
     "data": {
      "text/plain": [
       "14"
      ]
     },
     "execution_count": 32,
     "metadata": {},
     "output_type": "execute_result"
    }
   ],
   "source": [
    "## number of words\n",
    "\n",
    "def no_of_words(filename):\n",
    "    c = 0\n",
    "    with open(filename,'r') as f:\n",
    "        filedata = f.readlines()\n",
    "        for line in filedata:\n",
    "            words_list = line.split()\n",
    "            c = c+len(words_list)\n",
    "    return c\n",
    "no_of_words('apssdc.txt')\n",
    "            \n",
    "            \n",
    "            \n",
    "            \n",
    "        "
   ]
  },
  {
   "cell_type": "code",
   "execution_count": 34,
   "metadata": {},
   "outputs": [
    {
     "data": {
      "text/plain": [
       "2"
      ]
     },
     "execution_count": 34,
     "metadata": {},
     "output_type": "execute_result"
    }
   ],
   "source": [
    "## frequency of words\n",
    "## input(filename,'Good')\n",
    "## output: 3\n",
    "\n",
    "def freq_word(filename,word):\n",
    "    c = 0\n",
    "    with open(filename) as f:\n",
    "        filedata = f.readlines()\n",
    "        for line in filedata:\n",
    "            words_list = line.split()\n",
    "            for i in words_list: ## i = Good # i==evening ## i = everyone \n",
    "                if word == i:\n",
    "                    c = c+1\n",
    "    return c\n",
    "freq_word('apssdc.txt','nice')\n",
    "            \n",
    "\n"
   ]
  },
  {
   "cell_type": "markdown",
   "metadata": {},
   "source": [
    "<!-- Good evening everyone...!\n",
    "Welcome to python online workshop\n",
    "Thank you everyone\n",
    "Stay safe \n",
    "Good and nice to meet you all..!\n",
    "to Good nice\n",
    "\n",
    "\n",
    "{'Good':3,'evening':1,'everyone':2,'Welcome':1,'to':3---\n",
    " \n",
    "} -->"
   ]
  },
  {
   "cell_type": "code",
   "execution_count": 37,
   "metadata": {},
   "outputs": [],
   "source": [
    "with open('python.txt','w') as f1:\n",
    "    filedata = f1.write('\\nGood evening all')\n"
   ]
  },
  {
   "cell_type": "code",
   "execution_count": null,
   "metadata": {},
   "outputs": [],
   "source": []
  },
  {
   "cell_type": "code",
   "execution_count": null,
   "metadata": {},
   "outputs": [],
   "source": []
  },
  {
   "cell_type": "code",
   "execution_count": null,
   "metadata": {},
   "outputs": [],
   "source": []
  },
  {
   "cell_type": "markdown",
   "metadata": {},
   "source": [
    "## Packages and Modules\n",
    "\n",
    "    - Packages\n",
    "        - Collection of python modules\n",
    "    - Modules\n",
    "        - A file that contains python code\n",
    "        - code that define functions,classes and varaibles\n",
    "        - we accessing this modules by using import\n",
    "    - Types of Modules\n",
    "        -1. Built-in/Pre-defined modules\n",
    "            - ex: Re,math,random etc...\n",
    "        -2. User defined modules"
   ]
  },
  {
   "cell_type": "code",
   "execution_count": 44,
   "metadata": {},
   "outputs": [
    {
     "name": "stdout",
     "output_type": "stream",
     "text": [
      "8.0\n",
      "24\n",
      "23\n",
      "1.7320508075688772\n"
     ]
    }
   ],
   "source": [
    "## Built-in module\n",
    "\n",
    "import math\n",
    "\n",
    "print(math.pow(2,3))\n",
    "print(math.ceil(23.24))\n",
    "print(math.floor(23.24))\n",
    "print(math.sqrt(3))\n"
   ]
  },
  {
   "cell_type": "code",
   "execution_count": 39,
   "metadata": {},
   "outputs": [
    {
     "name": "stdout",
     "output_type": "stream",
     "text": [
      "['__doc__', '__loader__', '__name__', '__package__', '__spec__', 'acos', 'acosh', 'asin', 'asinh', 'atan', 'atan2', 'atanh', 'ceil', 'comb', 'copysign', 'cos', 'cosh', 'degrees', 'dist', 'e', 'erf', 'erfc', 'exp', 'expm1', 'fabs', 'factorial', 'floor', 'fmod', 'frexp', 'fsum', 'gamma', 'gcd', 'hypot', 'inf', 'isclose', 'isfinite', 'isinf', 'isnan', 'isqrt', 'ldexp', 'lgamma', 'log', 'log10', 'log1p', 'log2', 'modf', 'nan', 'perm', 'pi', 'pow', 'prod', 'radians', 'remainder', 'sin', 'sinh', 'sqrt', 'tan', 'tanh', 'tau', 'trunc'] "
     ]
    }
   ],
   "source": [
    "print(dir(math),end=' ')"
   ]
  },
  {
   "cell_type": "code",
   "execution_count": 55,
   "metadata": {},
   "outputs": [
    {
     "name": "stdout",
     "output_type": "stream",
     "text": [
      "1\n"
     ]
    }
   ],
   "source": [
    "import random as r\n",
    "print(r.randint(1,10))\n"
   ]
  },
  {
   "cell_type": "code",
   "execution_count": 54,
   "metadata": {},
   "outputs": [
    {
     "name": "stdout",
     "output_type": "stream",
     "text": [
      "['BPF', 'LOG4', 'NV_MAGICCONST', 'RECIP_BPF', 'Random', 'SG_MAGICCONST', 'SystemRandom', 'TWOPI', '_Sequence', '_Set', '__all__', '__builtins__', '__cached__', '__doc__', '__file__', '__loader__', '__name__', '__package__', '__spec__', '_accumulate', '_acos', '_bisect', '_ceil', '_cos', '_e', '_exp', '_inst', '_log', '_os', '_pi', '_random', '_repeat', '_sha512', '_sin', '_sqrt', '_test', '_test_generator', '_urandom', '_warn', 'betavariate', 'choice', 'choices', 'expovariate', 'gammavariate', 'gauss', 'getrandbits', 'getstate', 'lognormvariate', 'normalvariate', 'paretovariate', 'randint', 'random', 'randrange', 'sample', 'seed', 'setstate', 'shuffle', 'triangular', 'uniform', 'vonmisesvariate', 'weibullvariate'] "
     ]
    }
   ],
   "source": [
    "print(dir(r),end=' ')"
   ]
  },
  {
   "cell_type": "code",
   "execution_count": 4,
   "metadata": {},
   "outputs": [],
   "source": [
    "from Packages import module as m"
   ]
  },
  {
   "cell_type": "code",
   "execution_count": 58,
   "metadata": {},
   "outputs": [
    {
     "data": {
      "text/plain": [
       "True"
      ]
     },
     "execution_count": 58,
     "metadata": {},
     "output_type": "execute_result"
    }
   ],
   "source": [
    "module.is_even(6)"
   ]
  },
  {
   "cell_type": "code",
   "execution_count": 59,
   "metadata": {},
   "outputs": [
    {
     "data": {
      "text/plain": [
       "False"
      ]
     },
     "execution_count": 59,
     "metadata": {},
     "output_type": "execute_result"
    }
   ],
   "source": [
    "module.is_even(7)"
   ]
  },
  {
   "cell_type": "code",
   "execution_count": 2,
   "metadata": {},
   "outputs": [
    {
     "data": {
      "text/plain": [
       "True"
      ]
     },
     "execution_count": 2,
     "metadata": {},
     "output_type": "execute_result"
    }
   ],
   "source": [
    "module.is_palindrom('madam')"
   ]
  },
  {
   "cell_type": "code",
   "execution_count": 3,
   "metadata": {},
   "outputs": [
    {
     "data": {
      "text/plain": [
       "24"
      ]
     },
     "execution_count": 3,
     "metadata": {},
     "output_type": "execute_result"
    }
   ],
   "source": [
    "module.fact(4)"
   ]
  },
  {
   "cell_type": "code",
   "execution_count": 5,
   "metadata": {},
   "outputs": [
    {
     "data": {
      "text/plain": [
       "120"
      ]
     },
     "execution_count": 5,
     "metadata": {},
     "output_type": "execute_result"
    }
   ],
   "source": [
    "m.fact(5)"
   ]
  },
  {
   "cell_type": "code",
   "execution_count": 6,
   "metadata": {},
   "outputs": [
    {
     "name": "stdout",
     "output_type": "stream",
     "text": [
      "['__builtins__', '__cached__', '__doc__', '__file__', '__loader__', '__name__', '__package__', '__spec__', 'fact', 'is_even', 'is_palindrom'] "
     ]
    }
   ],
   "source": [
    "print(dir(m),end=' ')"
   ]
  },
  {
   "cell_type": "code",
   "execution_count": null,
   "metadata": {},
   "outputs": [],
   "source": []
  },
  {
   "cell_type": "code",
   "execution_count": null,
   "metadata": {},
   "outputs": [],
   "source": []
  },
  {
   "cell_type": "code",
   "execution_count": null,
   "metadata": {},
   "outputs": [],
   "source": []
  },
  {
   "cell_type": "markdown",
   "metadata": {},
   "source": [
    "## Functional programming\n",
    "\n",
    "- lambda\n",
    "- map\n",
    "- filter\n",
    "- reduce\n",
    "\n",
    "- Single line functions\n",
    "- Anonymous functions\n",
    "- which are used to creating a small functions\n"
   ]
  },
  {
   "cell_type": "markdown",
   "metadata": {},
   "source": [
    "- lambda  : The function have number of arguments but have only one expression\n",
    "- Syntax: lambda arguments:expression"
   ]
  },
  {
   "cell_type": "code",
   "execution_count": 7,
   "metadata": {},
   "outputs": [
    {
     "data": {
      "text/plain": [
       "9"
      ]
     },
     "execution_count": 7,
     "metadata": {},
     "output_type": "execute_result"
    }
   ],
   "source": [
    "def add(a,b):\n",
    "    return a+b\n",
    "add(4,5)"
   ]
  },
  {
   "cell_type": "code",
   "execution_count": 10,
   "metadata": {},
   "outputs": [],
   "source": [
    "add = lambda a,b,c,d:a+b+c+d"
   ]
  },
  {
   "cell_type": "code",
   "execution_count": 11,
   "metadata": {},
   "outputs": [
    {
     "data": {
      "text/plain": [
       "18"
      ]
     },
     "execution_count": 11,
     "metadata": {},
     "output_type": "execute_result"
    }
   ],
   "source": [
    "add(5,6,5,2)"
   ]
  },
  {
   "cell_type": "markdown",
   "metadata": {},
   "source": [
    "- map\n",
    "- Syntax: map(function,iterable/sequence)"
   ]
  },
  {
   "cell_type": "code",
   "execution_count": 12,
   "metadata": {},
   "outputs": [
    {
     "name": "stdout",
     "output_type": "stream",
     "text": [
      "[1, 4, 9]\n"
     ]
    }
   ],
   "source": [
    "def mul(a):\n",
    "    return a*a\n",
    "\n",
    "x = map(mul,[1,2,3])\n",
    "print(list(x))"
   ]
  },
  {
   "cell_type": "code",
   "execution_count": 13,
   "metadata": {},
   "outputs": [
    {
     "data": {
      "text/plain": [
       "['ABC', 'XYZ', 'SDC']"
      ]
     },
     "execution_count": 13,
     "metadata": {},
     "output_type": "execute_result"
    }
   ],
   "source": [
    "names = ['abc','xyz','sdc']\n",
    "upper_letter = list(map(str.upper,names))\n",
    "upper_letter"
   ]
  },
  {
   "cell_type": "markdown",
   "metadata": {},
   "source": [
    "#### map() with lambda()"
   ]
  },
  {
   "cell_type": "code",
   "execution_count": 15,
   "metadata": {},
   "outputs": [
    {
     "data": {
      "text/plain": [
       "[8, 27, 125]"
      ]
     },
     "execution_count": 15,
     "metadata": {},
     "output_type": "execute_result"
    }
   ],
   "source": [
    "a = map(lambda x:x**3,[2,3,5])\n",
    "list(a)"
   ]
  },
  {
   "cell_type": "markdown",
   "metadata": {},
   "source": [
    "### filter\n",
    "- returns the iterator where the items are filtered\n",
    "- Syntax: filter(function,sequence)"
   ]
  },
  {
   "cell_type": "code",
   "execution_count": 23,
   "metadata": {},
   "outputs": [
    {
     "data": {
      "text/plain": [
       "[55, 123, 100]"
      ]
     },
     "execution_count": 23,
     "metadata": {},
     "output_type": "execute_result"
    }
   ],
   "source": [
    "num = [10,20,12,55,123,100,45]\n",
    "\n",
    "def greaterFunc(x):\n",
    "    if x>=55:\n",
    "        return True\n",
    "    else:\n",
    "        return False\n",
    "    \n",
    "ans = filter(greaterFunc,num)\n",
    "list(ans)\n",
    "        "
   ]
  },
  {
   "cell_type": "markdown",
   "metadata": {},
   "source": [
    "#### filter() with lambda()"
   ]
  },
  {
   "cell_type": "code",
   "execution_count": 20,
   "metadata": {},
   "outputs": [
    {
     "data": {
      "text/plain": [
       "(55, 123, 100)"
      ]
     },
     "execution_count": 20,
     "metadata": {},
     "output_type": "execute_result"
    }
   ],
   "source": [
    "res = filter(lambda x:x>=55,num)\n",
    "tuple(res)"
   ]
  },
  {
   "cell_type": "markdown",
   "metadata": {},
   "source": [
    "### reduce(): This function returns single value\n",
    "\n",
    "- Syntax: reduce(function,sequence)"
   ]
  },
  {
   "cell_type": "code",
   "execution_count": 21,
   "metadata": {},
   "outputs": [
    {
     "name": "stdout",
     "output_type": "stream",
     "text": [
      "100\n"
     ]
    }
   ],
   "source": [
    "import functools\n",
    "ans = functools.reduce(lambda x,y:x+y,[10,20,30,40])\n",
    "print(ans)"
   ]
  },
  {
   "cell_type": "code",
   "execution_count": null,
   "metadata": {},
   "outputs": [],
   "source": [
    "10 + 20 = 30\n",
    "30 + 30  = 60\n",
    "60 + 40 = 100\n"
   ]
  },
  {
   "cell_type": "code",
   "execution_count": 25,
   "metadata": {},
   "outputs": [
    {
     "data": {
      "text/plain": [
       "[1, 4, 9]"
      ]
     },
     "execution_count": 25,
     "metadata": {},
     "output_type": "execute_result"
    }
   ],
   "source": [
    "def pw(r):\n",
    "    return r**2\n",
    "res = map(pw,[1,2,3])\n",
    "list(res)"
   ]
  },
  {
   "cell_type": "code",
   "execution_count": 29,
   "metadata": {},
   "outputs": [
    {
     "name": "stdout",
     "output_type": "stream",
     "text": [
      "[11, 5, 9, 1, 2, 11, 5]\n",
      "[9, 1, 2, 11, 5]\n"
     ]
    }
   ],
   "source": [
    "l=[11,5,9,1,2,11,5]\n",
    "l1=l.copy()\n",
    "l2 = []\n",
    "print(l1)\n",
    "for i in l:\n",
    "    c=0\n",
    "    for j in l1:\n",
    "        if(i==j):\n",
    "            c=c+1\n",
    "            \n",
    "    if(c==2):\n",
    "        l1.remove(i)\n",
    "print(l1)"
   ]
  },
  {
   "cell_type": "code",
   "execution_count": 32,
   "metadata": {},
   "outputs": [
    {
     "data": {
      "text/plain": [
       "5"
      ]
     },
     "execution_count": 32,
     "metadata": {},
     "output_type": "execute_result"
    }
   ],
   "source": [
    "l=[11,5,9,1,2,11,5]\n",
    "l.pop()"
   ]
  },
  {
   "cell_type": "code",
   "execution_count": 33,
   "metadata": {},
   "outputs": [
    {
     "data": {
      "text/plain": [
       "[11, 5, 9, 1, 2, 11]"
      ]
     },
     "execution_count": 33,
     "metadata": {},
     "output_type": "execute_result"
    }
   ],
   "source": [
    "l"
   ]
  },
  {
   "cell_type": "code",
   "execution_count": 34,
   "metadata": {},
   "outputs": [
    {
     "ename": "IndexError",
     "evalue": "pop index out of range",
     "output_type": "error",
     "traceback": [
      "\u001b[1;31m---------------------------------------------------------------------------\u001b[0m",
      "\u001b[1;31mIndexError\u001b[0m                                Traceback (most recent call last)",
      "\u001b[1;32m<ipython-input-34-49e9e4ecc970>\u001b[0m in \u001b[0;36m<module>\u001b[1;34m\u001b[0m\n\u001b[1;32m----> 1\u001b[1;33m \u001b[0ml\u001b[0m\u001b[1;33m.\u001b[0m\u001b[0mpop\u001b[0m\u001b[1;33m(\u001b[0m\u001b[1;36m9\u001b[0m\u001b[1;33m)\u001b[0m\u001b[1;33m\u001b[0m\u001b[1;33m\u001b[0m\u001b[0m\n\u001b[0m",
      "\u001b[1;31mIndexError\u001b[0m: pop index out of range"
     ]
    }
   ],
   "source": [
    "l.pop(9)"
   ]
  },
  {
   "cell_type": "code",
   "execution_count": null,
   "metadata": {},
   "outputs": [],
   "source": []
  }
 ],
 "metadata": {
  "kernelspec": {
   "display_name": "Python 3",
   "language": "python",
   "name": "python3"
  },
  "language_info": {
   "codemirror_mode": {
    "name": "ipython",
    "version": 3
   },
   "file_extension": ".py",
   "mimetype": "text/x-python",
   "name": "python",
   "nbconvert_exporter": "python",
   "pygments_lexer": "ipython3",
   "version": "3.8.3"
  }
 },
 "nbformat": 4,
 "nbformat_minor": 4
}
