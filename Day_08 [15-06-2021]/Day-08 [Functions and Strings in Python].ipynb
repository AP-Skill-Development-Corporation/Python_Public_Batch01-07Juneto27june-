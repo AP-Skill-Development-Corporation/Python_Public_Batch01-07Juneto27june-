{
 "cells": [
  {
   "cell_type": "code",
   "execution_count": null,
   "id": "10877a3f",
   "metadata": {},
   "outputs": [],
   "source": [
    "#Agenda of the Day :\n",
    "                    1. Functions in Python\n",
    "                    2. Strings in Python\n",
    "                      Discuss about tasks:\n",
    "                "
   ]
  },
  {
   "cell_type": "code",
   "execution_count": 2,
   "id": "8bbe2e22",
   "metadata": {},
   "outputs": [
    {
     "name": "stdout",
     "output_type": "stream",
     "text": [
      "select operations\n",
      "1. add\n",
      "2. sub\n",
      "3. Mul\n",
      "4. Div\n",
      "enter ur choice(1/2/3/4)3\n",
      "enter first num8\n",
      "enter second num8\n",
      "8 * 8 = 64\n"
     ]
    }
   ],
   "source": [
    "#1. Basic calculator operations(using if )\n",
    "print(\"select operations\")\n",
    "print(\"1. add\")\n",
    "print(\"2. sub\")\n",
    "print(\"3. Mul\")\n",
    "print(\"4. Div\")\n",
    "choice = input(\"enter ur choice(1/2/3/4)\") #its take input as str\n",
    "if choice in (\"1\",\"2\",\"3\",\"4\"):\n",
    "    n1 = int(input(\"enter first num\"))\n",
    "    n2 = int(input(\"enter second num\"))\n",
    "if choice==\"1\":\n",
    "    print(n1,\"+\",n2,\"=\",n1+n2)\n",
    "elif choice==\"2\":\n",
    "    print(n1,\"-\",n2,\"=\",n1-n2)\n",
    "elif choice==\"3\":\n",
    "    print(n1,\"*\",n2,\"=\",n1*n2)\n",
    "elif choice==\"4\":\n",
    "    print(n1,\"/\",n2,\"=\",n1/n2)\n",
    "else:\n",
    "    print(\"invalid input\")    "
   ]
  },
  {
   "cell_type": "code",
   "execution_count": 5,
   "id": "3a5e38f3",
   "metadata": {},
   "outputs": [
    {
     "name": "stdout",
     "output_type": "stream",
     "text": [
      "enter a value3\n",
      "enter b value3\n",
      "enter c value3\n",
      "zero\n"
     ]
    }
   ],
   "source": [
    "#2. Given 3 numbers (taken from user)\n",
    "a = int(input(\"enter a value\"))\n",
    "b = int(input(\"enter b value\"))\n",
    "c = int(input(\"enter c value\"))\n",
    "if ((a!=b) and (b!=c) and (c!=a)):\n",
    "    print(a+b+c)\n",
    "elif (a==b) and (a!=c):\n",
    "    print(c)\n",
    "elif (b==c) and (b!=a):\n",
    "    print(a)\n",
    "elif (a==c) and (a!=b):\n",
    "    print(b)\n",
    "elif (a==b) and (b==c):\n",
    "    print(\"zero\")"
   ]
  },
  {
   "cell_type": "code",
   "execution_count": 11,
   "id": "df30f531",
   "metadata": {},
   "outputs": [
    {
     "name": "stdout",
     "output_type": "stream",
     "text": [
      "2\n",
      "3\n",
      "5\n"
     ]
    }
   ],
   "source": [
    "#3.Print no. of even and odd numbers in given range:\n",
    "even =0\n",
    "odd = 0\n",
    "for i in range(11,16):\n",
    "    if i%2==0:\n",
    "        even+=1\n",
    "    else:\n",
    "        odd+=1\n",
    "print(even)\n",
    "print(odd)\n",
    "print(even+odd)"
   ]
  },
  {
   "cell_type": "code",
   "execution_count": 14,
   "id": "a43df753",
   "metadata": {},
   "outputs": [
    {
     "name": "stdout",
     "output_type": "stream",
     "text": [
      "enter a number5\n",
      "enter a number3\n",
      "15 30 45 60 75 90 "
     ]
    }
   ],
   "source": [
    "#4. Print all numbers in a range divisible by given input number:\n",
    "n1= int(input(\"enter a number\"))\n",
    "n2= int(input(\"enter a number\"))\n",
    "for i in range(1,101):\n",
    "    if i%n1==0 and i%n2==0:\n",
    "        print(i,end=\" \")"
   ]
  },
  {
   "cell_type": "code",
   "execution_count": 16,
   "id": "935901d8",
   "metadata": {},
   "outputs": [
    {
     "name": "stdout",
     "output_type": "stream",
     "text": [
      "enter your usernamesurya\n",
      "enter your password········\n",
      "welcome surya\n"
     ]
    }
   ],
   "source": [
    "#Username and password:\n",
    "from getpass import getpass\n",
    "username = input(\"enter your username\")\n",
    "pwd = getpass(\"enter your password\")\n",
    "if username==\"surya\" and pwd==\"12345\":\n",
    "    print(\"welcome\",username)\n",
    "else:\n",
    "    print(\"invalid username or password\")"
   ]
  },
  {
   "cell_type": "code",
   "execution_count": null,
   "id": "9f8d0ea1",
   "metadata": {},
   "outputs": [],
   "source": [
    "#Functions in Python:\n",
    "     - Its a group of related statements that performs a specific task.\n",
    "#why we use?\n",
    "  1. To avoid code repititon\n",
    "  2. Complex program divided into small piece of code to debug easily\n",
    "  3. write once and use any times (code resuablity.)"
   ]
  },
  {
   "cell_type": "code",
   "execution_count": null,
   "id": "ffaefbbf",
   "metadata": {},
   "outputs": [],
   "source": [
    "#How to declare functions ?\n",
    "  By using def keyword"
   ]
  },
  {
   "cell_type": "code",
   "execution_count": null,
   "id": "4a00a6e8",
   "metadata": {},
   "outputs": [],
   "source": [
    "#declaring the functions?\n",
    "def functioname(parameters):    #function definition \n",
    "    \"\"\"doc string\"\"\"\n",
    "   #block of statements\n",
    "   return\n",
    "functionname(arguments) #function calling "
   ]
  },
  {
   "cell_type": "code",
   "execution_count": 18,
   "id": "db715046",
   "metadata": {},
   "outputs": [
    {
     "name": "stdout",
     "output_type": "stream",
     "text": [
      "Hello Surya\n"
     ]
    }
   ],
   "source": [
    "#Example: (without parameters)\n",
    "def username():             #function definition\n",
    "    \"\"\"This functions print the name of the user\"\"\"\n",
    "    print(\"Hello Surya\")\n",
    "username()                  #function calling "
   ]
  },
  {
   "cell_type": "code",
   "execution_count": 46,
   "id": "2405c8cf",
   "metadata": {},
   "outputs": [
    {
     "name": "stdout",
     "output_type": "stream",
     "text": [
      "enter a value20\n",
      "enter b value30\n",
      "enter c value50\n",
      "1520\n",
      "19.4\n"
     ]
    }
   ],
   "source": [
    "#Example:\n",
    "def sums(a,b,c):   #positional arguments\n",
    "    \"\"\"This is worked on sum of given 2 nums\"\"\"\n",
    "    print(a+b*c)\n",
    "    print(a-(b/c))\n",
    "a= int(input(\"enter a value\"))\n",
    "b= int(input(\"enter b value\"))\n",
    "c= int(input(\"enter c value\"))\n",
    "sums(a,b,c)"
   ]
  },
  {
   "cell_type": "code",
   "execution_count": 28,
   "id": "df63d009",
   "metadata": {},
   "outputs": [
    {
     "name": "stdout",
     "output_type": "stream",
     "text": [
      "70\n",
      "-50\n",
      "200\n",
      "5.0\n"
     ]
    }
   ],
   "source": [
    "#we can use any no.of functions :\n",
    "def add(x,y):\n",
    "    return x+y\n",
    "def sub(x,y):\n",
    "    return x-y\n",
    "def mul(x,y):\n",
    "    return x*y\n",
    "def div(x,y):\n",
    "    return x/y\n",
    "print(add(10,60))\n",
    "print(sub(10,60))\n",
    "print(mul(10,20))\n",
    "print(div(10,2))"
   ]
  },
  {
   "cell_type": "code",
   "execution_count": 31,
   "id": "083b1dd8",
   "metadata": {},
   "outputs": [
    {
     "name": "stdout",
     "output_type": "stream",
     "text": [
      "5\n",
      "6\n",
      "5\n",
      "60\n"
     ]
    }
   ],
   "source": [
    "#Difference b/w print and return statement:\n",
    "def first():\n",
    "    a = 5\n",
    "    print(a)\n",
    "    return 6\n",
    "def second():\n",
    "    return 10*first()\n",
    "print(first())\n",
    "print(second())"
   ]
  },
  {
   "cell_type": "code",
   "execution_count": 32,
   "id": "1bdfa75e",
   "metadata": {},
   "outputs": [
    {
     "name": "stdout",
     "output_type": "stream",
     "text": [
      "enter a number10\n",
      "enter a number3\n",
      "30 60 90 "
     ]
    }
   ],
   "source": [
    "def rangenumbers():\n",
    "    n1= int(input(\"enter a number\"))\n",
    "    n2= int(input(\"enter a number\"))\n",
    "    for i in range(1,101):\n",
    "        if i%n1==0 and i%n2==0:\n",
    "            print(i,end=\" \")\n",
    "rangenumbers()"
   ]
  },
  {
   "cell_type": "code",
   "execution_count": 40,
   "id": "eddc3c67",
   "metadata": {},
   "outputs": [
    {
     "name": "stdout",
     "output_type": "stream",
     "text": [
      "enter a,b,c values10 20 30\n"
     ]
    },
    {
     "data": {
      "text/plain": [
       "60"
      ]
     },
     "execution_count": 40,
     "metadata": {},
     "output_type": "execute_result"
    }
   ],
   "source": [
    "#Task with functions:\n",
    "def findoutvalue(a,b,c):\n",
    "    if ((int(a)!=int(b)) and (int(b)!=int(c)) and (int(c)!=int(a))):\n",
    "        return int(a)+int(b)+int(c)\n",
    "    elif (a==b) and (a!=c):\n",
    "        return c\n",
    "    elif (b==c) and (b!=a):\n",
    "        return a\n",
    "    elif (a==c) and (a!=b):\n",
    "        return b\n",
    "    elif (a==b) and (b==c):\n",
    "        return \"zero\"\n",
    "a,b,c=input(\"enter a,b,c values\").split(\" \")\n",
    "findoutvalue(a,b,c)"
   ]
  },
  {
   "cell_type": "code",
   "execution_count": 44,
   "id": "4012466c",
   "metadata": {},
   "outputs": [
    {
     "name": "stdout",
     "output_type": "stream",
     "text": [
      "enter the value to find out factorial1\n",
      "1\n"
     ]
    }
   ],
   "source": [
    "#Recursive functions in python: (a function itself called)\n",
    "def factorial(x):\n",
    "    \"\"\"This function is find out factorial of a given number\"\"\"\n",
    "    if x==1 or x==0:\n",
    "        return 1\n",
    "    else:\n",
    "        return (x*factorial(x-1))   #recursive calling\n",
    "x = int(input(\"enter the value to find out factorial\"))\n",
    "print(factorial(x))"
   ]
  },
  {
   "cell_type": "code",
   "execution_count": null,
   "id": "afb4e14d",
   "metadata": {},
   "outputs": [],
   "source": [
    "#Type of Arguments:\n",
    "1. Default Arguments\n",
    "2. keyword Arguments\n",
    "3. arbitary Arguments"
   ]
  },
  {
   "cell_type": "code",
   "execution_count": null,
   "id": "d1d99168",
   "metadata": {},
   "outputs": [],
   "source": [
    "#Default Arguments:\n",
    "Values of default arguments are fixed at function declaration.\n"
   ]
  },
  {
   "cell_type": "code",
   "execution_count": 48,
   "id": "b4d73bb9",
   "metadata": {},
   "outputs": [
    {
     "data": {
      "text/plain": [
       "'Apssdc is conducting python workshop to students in online'"
      ]
     },
     "execution_count": 48,
     "metadata": {},
     "output_type": "execute_result"
    }
   ],
   "source": [
    "#Example:\n",
    "def info(program=\"python workshop\",mode=\"online\"):\n",
    "    return \"Apssdc is conducting \" + program+\" to students in \" + mode\n",
    "info()"
   ]
  },
  {
   "cell_type": "code",
   "execution_count": 49,
   "id": "51fb078b",
   "metadata": {},
   "outputs": [
    {
     "data": {
      "text/plain": [
       "'Apssdc is conducting Python Workshop to students in Online'"
      ]
     },
     "execution_count": 49,
     "metadata": {},
     "output_type": "execute_result"
    }
   ],
   "source": [
    "#Keyword Arguments: (value of these arguments are fixed at function definition)\n",
    "def info(program,mode):\n",
    "    return \"Apssdc is conducting \" + program+\" to students in \" + mode\n",
    "info(mode=\"Online\",program=\"Python Workshop\") #function definition"
   ]
  },
  {
   "cell_type": "code",
   "execution_count": 58,
   "id": "111c9c6d",
   "metadata": {},
   "outputs": [
    {
     "name": "stdout",
     "output_type": "stream",
     "text": [
      "Dhoni kohli Jadeja Ro-Hit Bumrah Swevag Padikal "
     ]
    }
   ],
   "source": [
    "#Arbitary Arguments:(variable lenghth arguments)\n",
    "#here we use * symbol before the variable name\n",
    "def indianTeam(*Players):\n",
    "    for name in (Players):\n",
    "        print(name,end=\" \")\n",
    "indianTeam(\"Dhoni\",\"kohli\",\"Jadeja\",\"Ro-Hit\",\"Bumrah\",\"Swevag\",\"Padikal\")"
   ]
  },
  {
   "cell_type": "code",
   "execution_count": 60,
   "id": "c7bbbd7a",
   "metadata": {},
   "outputs": [
    {
     "data": {
      "text/plain": [
       "4"
      ]
     },
     "execution_count": 60,
     "metadata": {},
     "output_type": "execute_result"
    }
   ],
   "source": [
    "li = [1,2,3,4,5,6]\n",
    "li[0]\n",
    "li[3]"
   ]
  },
  {
   "cell_type": "code",
   "execution_count": null,
   "id": "5517c680",
   "metadata": {},
   "outputs": [],
   "source": []
  }
 ],
 "metadata": {
  "kernelspec": {
   "display_name": "Python 3",
   "language": "python",
   "name": "python3"
  },
  "language_info": {
   "codemirror_mode": {
    "name": "ipython",
    "version": 3
   },
   "file_extension": ".py",
   "mimetype": "text/x-python",
   "name": "python",
   "nbconvert_exporter": "python",
   "pygments_lexer": "ipython3",
   "version": "3.8.8"
  }
 },
 "nbformat": 4,
 "nbformat_minor": 5
}
