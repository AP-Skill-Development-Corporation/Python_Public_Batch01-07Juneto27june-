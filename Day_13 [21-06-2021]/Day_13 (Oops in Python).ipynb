{
 "cells": [
  {
   "cell_type": "code",
   "execution_count": null,
   "id": "a7c0e0a3",
   "metadata": {},
   "outputs": [],
   "source": [
    "#Agend of the Day:\n",
    "        1. Object Oriented Programming in Python"
   ]
  },
  {
   "cell_type": "code",
   "execution_count": null,
   "id": "434eed1c",
   "metadata": {},
   "outputs": [],
   "source": [
    "#Introduction Abouts Oops?\n",
    "\n",
    "     --in 1960s oops was initiated by alan kan\n",
    "     --with help of c++ which is available in the market\n",
    "    ---furtherly it was adopted by many programming languages.\n",
    "#Where we can use oops?\n",
    "    1. real-Time systems\n",
    "    2. Artificial Intelligence\n",
    "    3. Expert Systems\n",
    "    4. Client-Server Systems\n",
    "    5. Object-Oriented Databases...etc"
   ]
  },
  {
   "cell_type": "code",
   "execution_count": null,
   "id": "79cc4976",
   "metadata": {},
   "outputs": [],
   "source": [
    "#Examples of oops languages:\n",
    "  1. c++\n",
    "  2. java\n",
    "  3. Javascript\n",
    "  4. python"
   ]
  },
  {
   "cell_type": "code",
   "execution_count": null,
   "id": "05482564",
   "metadata": {},
   "outputs": [],
   "source": [
    "#What is object oriented program?\n",
    "  - Its a different method of structuring a software program\n",
    "    by bundling the properties and behaviours into invidual \n",
    "    objects.\n",
    "    or\n",
    "    its deals with classes and objects.\n",
    "-It used to structure a software program into\n",
    "simple,resuable pieces of code."
   ]
  },
  {
   "cell_type": "code",
   "execution_count": null,
   "id": "e9c39ee5",
   "metadata": {},
   "outputs": [],
   "source": [
    "#Contents of oops?\n",
    "1. Class\n",
    "2. object\n",
    "3. Method\n",
    "4. Inheritance\n",
    "   - Single Level\n",
    "   - Multi Level\n",
    "   - Hierarchical\n",
    "   - Multiple \n",
    "5. Polymorphism\n",
    "   - Compile Time   - method overloading()\n",
    "   - Run Time       - method overriding()\n",
    "6. Data Abstraction\n",
    "7. Data Encapusulation & Data Hiding\n"
   ]
  },
  {
   "cell_type": "code",
   "execution_count": null,
   "id": "ce5640f2",
   "metadata": {},
   "outputs": [],
   "source": [
    "#Class:  What is a class?\n",
    "    A class is a collection of objects.\n",
    "       or \n",
    "    A class is blueprint of the object and object must follows that\n",
    "    class rules."
   ]
  },
  {
   "cell_type": "code",
   "execution_count": null,
   "id": "5b577f6a",
   "metadata": {},
   "outputs": [],
   "source": [
    "#How to create class? (Logical Entity)\n",
    "class class_name:\n",
    "    #vairables declaration\n",
    "    #construtor method\n",
    "    #methods\n",
    "    "
   ]
  },
  {
   "cell_type": "code",
   "execution_count": null,
   "id": "a1935777",
   "metadata": {},
   "outputs": [],
   "source": [
    "#Object: (Physical Entity)\n",
    " An Object (instance) of a class that follows the class logic."
   ]
  },
  {
   "cell_type": "code",
   "execution_count": null,
   "id": "c0b149b0",
   "metadata": {},
   "outputs": [],
   "source": [
    "#How to create objects?\n",
    "class car:\n",
    "     #Varibles\n",
    "     #methods.\n",
    "    \n",
    "#objectvariable = classname()\n",
    "obj = car()"
   ]
  },
  {
   "cell_type": "code",
   "execution_count": 18,
   "id": "f60a40b0",
   "metadata": {},
   "outputs": [
    {
     "name": "stdout",
     "output_type": "stream",
     "text": [
      "enter a value10\n",
      "enter b value20\n",
      "Construtor is invoked\n",
      "50\n",
      "60\n",
      "Sum of the a and b is: 30\n",
      "None\n"
     ]
    }
   ],
   "source": [
    "#Example: (class,object,classmethod,construtormethod(),class variables,\n",
    "  #instance variable,object creation, accessing data members of class)\n",
    "class Myclass:\n",
    "    sums = 0   #class variable  \n",
    "    c= 50\n",
    "    d= 60  #self keyword used to access the members of class\n",
    "    def __init__(self,a,b):    #construtor method or instance method\n",
    "        self.sums=a+b          #a,b -instance vairables\n",
    "        print(\"Construtor is invoked\")\n",
    "    \n",
    "    def printsum(self):                #class method\n",
    "        print(\"Sum of the a and b is:\",self.sums)\n",
    "\n",
    "        \n",
    "#creating objects for above class\n",
    "\n",
    "a = int(input(\"enter a value\"))\n",
    "b = int(input(\"enter b value\"))\n",
    "obj = Myclass(a,b)    #object creation\n",
    "print(obj.c)\n",
    "print(obj.d)\n",
    "print(obj.printsum())"
   ]
  },
  {
   "cell_type": "code",
   "execution_count": 21,
   "id": "4cf5c82e",
   "metadata": {},
   "outputs": [
    {
     "name": "stdout",
     "output_type": "stream",
     "text": [
      "white 5.1 50 501\n",
      "He is run as fast\n",
      "He is best foodie in our class\n"
     ]
    }
   ],
   "source": [
    "#Example2:\n",
    "class Student:             #class\n",
    "    roll = \"501\"\n",
    "    height = 5.10                      #class variables\n",
    "    weight = 50\n",
    "    color = \"white\"\n",
    "    def run(self):                       #class methods\n",
    "        print(\"He is run as fast\")\n",
    "    def eat(self):\n",
    "        print(\"He is best foodie in our class\")\n",
    "\n",
    "#object creation\n",
    "\n",
    "dhanu = Student()\n",
    "print(dhanu.color,dhanu.height,dhanu.weight,dhanu.roll)\n",
    "         #accessing the values of variables\n",
    "dhanu.run()\n",
    "dhanu.eat()  #accessing the class methods."
   ]
  },
  {
   "cell_type": "code",
   "execution_count": 26,
   "id": "17f8b044",
   "metadata": {},
   "outputs": [
    {
     "name": "stdout",
     "output_type": "stream",
     "text": [
      "dhanu Details= white 5.11 501 50\n",
      "raghu Details= Fair 5.1 503 65\n",
      "He is run as fast\n"
     ]
    }
   ],
   "source": [
    "class Student:             #class\n",
    "    #roll = \"501\"\n",
    "    #height = 5.10                      #class variables\n",
    "    #weight = 50\n",
    "    def __init__(self,c,h,r,w):\n",
    "        self.color=c\n",
    "        self.height=h\n",
    "        self.roll = r\n",
    "        self.weight=w\n",
    "    def run(self):                       #class methods\n",
    "        print(\"He is run as fast\")\n",
    "    def eat(self):\n",
    "        print(\"He is best foodie in our class\")\n",
    "dhanu=Student(\"white\",5.11,501,50)\n",
    "print(\"dhanu Details=\",dhanu.color,dhanu.height,dhanu.roll,dhanu.weight)\n",
    "raghu= Student(\"Fair\",5.10,503,65)\n",
    "print(\"raghu Details=\",raghu.color,raghu.height,raghu.roll,raghu.weight)\n",
    "dhanu.run()"
   ]
  },
  {
   "cell_type": "code",
   "execution_count": null,
   "id": "f522bdc1",
   "metadata": {},
   "outputs": [],
   "source": []
  }
 ],
 "metadata": {
  "kernelspec": {
   "display_name": "Python 3",
   "language": "python",
   "name": "python3"
  },
  "language_info": {
   "codemirror_mode": {
    "name": "ipython",
    "version": 3
   },
   "file_extension": ".py",
   "mimetype": "text/x-python",
   "name": "python",
   "nbconvert_exporter": "python",
   "pygments_lexer": "ipython3",
   "version": "3.8.8"
  }
 },
 "nbformat": 4,
 "nbformat_minor": 5
}
