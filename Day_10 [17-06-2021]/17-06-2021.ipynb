{
 "cells": [
  {
   "cell_type": "markdown",
   "metadata": {},
   "source": [
    "## Functions conti.."
   ]
  },
  {
   "cell_type": "markdown",
   "metadata": {},
   "source": [
    "- Arguments in functions\n",
    "    - here we are able to call a function by these arguments\n",
    "    \n",
    "- Required Arguments\n",
    "    - Arguments passes to a fucntion in correct positional order\n",
    "- Keyword Arguments\n",
    "    - identifies the arguments by parameter name\n",
    "- Default Arguments\n",
    "    - Assumes default value if value is not specified in function call\n",
    "- Varaible length arguments\n",
    "    - Process of a function for more arguments than you specified while defining the function"
   ]
  },
  {
   "cell_type": "code",
   "execution_count": 16,
   "metadata": {},
   "outputs": [
    {
     "name": "stdout",
     "output_type": "stream",
     "text": [
      "welcome to python online workshop by APSSDC\n"
     ]
    }
   ],
   "source": [
    "### required arguments\n",
    "\n",
    "def hii(name):\n",
    "    print('welcome to python online workshop by',name)\n",
    "hii('APSSDC')"
   ]
  },
  {
   "cell_type": "code",
   "execution_count": 17,
   "metadata": {},
   "outputs": [
    {
     "name": "stdout",
     "output_type": "stream",
     "text": [
      "663\n",
      "ECE\n"
     ]
    }
   ],
   "source": [
    "## Keyword Arguments\n",
    "\n",
    "def details(number,branch):\n",
    "    print(number)\n",
    "    print(branch)\n",
    "    \n",
    "details(branch = 'ECE',number=663)"
   ]
  },
  {
   "cell_type": "code",
   "execution_count": 18,
   "metadata": {},
   "outputs": [
    {
     "name": "stdout",
     "output_type": "stream",
     "text": [
      "123\n",
      "ECE\n"
     ]
    }
   ],
   "source": [
    "## Default arguments\n",
    "\n",
    "def details(number,branch='ECE'):\n",
    "    print(number)\n",
    "    print(branch)\n",
    "details(123,)"
   ]
  },
  {
   "cell_type": "code",
   "execution_count": 19,
   "metadata": {},
   "outputs": [
    {
     "name": "stdout",
     "output_type": "stream",
     "text": [
      "2\n",
      "hi welcome to python online 123 456 "
     ]
    }
   ],
   "source": [
    "## Varaible length arguments\n",
    "\n",
    "def funcv(n,*args): ##asterisk\n",
    "    print(n)\n",
    "    for i in args:\n",
    "        print(i,end=' ')\n",
    "funcv(2,'hi','welcome','to','python','online',123,456)\n",
    "        \n",
    "        \n",
    "    "
   ]
  },
  {
   "cell_type": "code",
   "execution_count": 20,
   "metadata": {},
   "outputs": [
    {
     "data": {
      "text/plain": [
       "100"
      ]
     },
     "execution_count": 20,
     "metadata": {},
     "output_type": "execute_result"
    }
   ],
   "source": [
    "def abcd(num):\n",
    "    output = num*num\n",
    "    return output\n",
    "num = 10\n",
    "res = abcd(num)\n",
    "res"
   ]
  },
  {
   "cell_type": "code",
   "execution_count": 24,
   "metadata": {},
   "outputs": [
    {
     "data": {
      "text/plain": [
       "True"
      ]
     },
     "execution_count": 24,
     "metadata": {},
     "output_type": "execute_result"
    }
   ],
   "source": [
    "## leap year check\n",
    "def is_leap_year(year): ## 2000\n",
    "    if year % 400 == 0 or (year % 100 != 0 and year % 4 == 0):\n",
    "        return True\n",
    "    return False\n",
    "is_leap_year(2016)\n"
   ]
  },
  {
   "cell_type": "code",
   "execution_count": 25,
   "metadata": {},
   "outputs": [
    {
     "name": "stdout",
     "output_type": "stream",
     "text": [
      "enter start year: 2000\n",
      "enter end year: 2020\n",
      "2000 2004 2008 2012 2016 2020 "
     ]
    }
   ],
   "source": [
    "## leap year in the given range\n",
    "\n",
    "def leapyearsrange(startyear,endyear):  ## (2000, 2020)\n",
    "    for year in range(startyear,endyear+1): ## for year in range(2000,2020)\n",
    "        if is_leap_year(year): ## is_leap_year(2000)\n",
    "            print(year,end=' ')\n",
    "    \n",
    "startyear = int(input('enter start year: '))\n",
    "endyear = int(input('enter end year: '))\n",
    "leapyearsrange(startyear,endyear)\n",
    "        "
   ]
  },
  {
   "cell_type": "code",
   "execution_count": null,
   "metadata": {},
   "outputs": [],
   "source": []
  },
  {
   "cell_type": "code",
   "execution_count": 26,
   "metadata": {},
   "outputs": [
    {
     "data": {
      "text/plain": [
       "'nohtyp'"
      ]
     },
     "execution_count": 26,
     "metadata": {},
     "output_type": "execute_result"
    }
   ],
   "source": [
    "## Strings\n",
    "s = 'python'\n",
    "s[::-1]"
   ]
  },
  {
   "cell_type": "code",
   "execution_count": null,
   "metadata": {},
   "outputs": [],
   "source": [
    "[start:end:step]\n",
    "[0::1]  - forward indexing -- positive indexing -- left to right\n",
    "\n",
    "0 ---- end of the string\n",
    "-1 -- end of the stings"
   ]
  },
  {
   "cell_type": "code",
   "execution_count": 27,
   "metadata": {},
   "outputs": [
    {
     "data": {
      "text/plain": [
       "'p'"
      ]
     },
     "execution_count": 27,
     "metadata": {},
     "output_type": "execute_result"
    }
   ],
   "source": [
    "s = 'python'\n",
    "s[0]"
   ]
  },
  {
   "cell_type": "code",
   "execution_count": 28,
   "metadata": {},
   "outputs": [
    {
     "data": {
      "text/plain": [
       "'pto'"
      ]
     },
     "execution_count": 28,
     "metadata": {},
     "output_type": "execute_result"
    }
   ],
   "source": [
    "s[::2]"
   ]
  },
  {
   "cell_type": "code",
   "execution_count": 29,
   "metadata": {},
   "outputs": [
    {
     "name": "stdout",
     "output_type": "stream",
     "text": [
      "abcd123@#\n",
      "No of character:  4\n",
      "No of digits:  3\n",
      "No of sc:  2\n"
     ]
    }
   ],
   "source": [
    "def count(string):\n",
    "    a = n = s = 0\n",
    "    for i in string:\n",
    "        if(i.isdigit()):\n",
    "            n = n+1\n",
    "        elif(i.isalpha()):\n",
    "            a = a+1\n",
    "        else:\n",
    "            s = s+1\n",
    "    print('No of character: ',a)\n",
    "    print('No of digits: ',n)\n",
    "    print('No of sc: ',s)\n",
    "\n",
    "string = input()\n",
    "count(string)\n",
    "        \n",
    "        "
   ]
  },
  {
   "cell_type": "code",
   "execution_count": 32,
   "metadata": {},
   "outputs": [
    {
     "name": "stdout",
     "output_type": "stream",
     "text": [
      "['A', 'P', 'S', 'S', 'D', 'C']\n",
      "Apssdc\n"
     ]
    }
   ],
   "source": [
    "s = \"A P S S D C\"\n",
    "a = s.split() \n",
    "print(a)\n",
    "print(\"\".join(a).capitalize())"
   ]
  },
  {
   "cell_type": "markdown",
   "metadata": {},
   "source": [
    "## Data Structures\n",
    "\n",
    "- Data structures are the way of organizing or storing a data\n",
    "- Data is nothing but information\n",
    "- The main use data strucutes is we can access access data and we can workout on the data efficienly\n",
    "- Types of DS\n",
    "    - List\n",
    "    - Tuple\n",
    "    - Dictoinary\n",
    "    - Set\n",
    "    \n",
    "    \n",
    "    "
   ]
  },
  {
   "cell_type": "markdown",
   "metadata": {},
   "source": [
    "- List\n",
    "    - Collection of Hetrogenous data\n",
    "    - Ordered and mutable(changeable)\n",
    "    - Allows duplicate elements or items\n",
    "    - represented by square brackets []"
   ]
  },
  {
   "cell_type": "code",
   "execution_count": 41,
   "metadata": {},
   "outputs": [
    {
     "data": {
      "text/plain": [
       "[123, 'Nandini', 9.8]"
      ]
     },
     "execution_count": 41,
     "metadata": {},
     "output_type": "execute_result"
    }
   ],
   "source": [
    "## declaration list\n",
    "\n",
    "li = [123,'Nandini',9.8]\n",
    "li"
   ]
  },
  {
   "cell_type": "code",
   "execution_count": 43,
   "metadata": {},
   "outputs": [
    {
     "name": "stdout",
     "output_type": "stream",
     "text": [
      "123\n",
      "9.8\n"
     ]
    }
   ],
   "source": [
    "## ordered\n",
    "\n",
    "print(li[0])\n",
    "print(li[-1])"
   ]
  },
  {
   "cell_type": "code",
   "execution_count": 36,
   "metadata": {},
   "outputs": [
    {
     "data": {
      "text/plain": [
       "123"
      ]
     },
     "execution_count": 36,
     "metadata": {},
     "output_type": "execute_result"
    }
   ],
   "source": [
    "li[0]"
   ]
  },
  {
   "cell_type": "code",
   "execution_count": 37,
   "metadata": {},
   "outputs": [],
   "source": [
    "li[0] = 'Shyam'"
   ]
  },
  {
   "cell_type": "code",
   "execution_count": 38,
   "metadata": {},
   "outputs": [
    {
     "data": {
      "text/plain": [
       "['Shyam', 'Nandini', 9.8]"
      ]
     },
     "execution_count": 38,
     "metadata": {},
     "output_type": "execute_result"
    }
   ],
   "source": [
    "li"
   ]
  },
  {
   "cell_type": "code",
   "execution_count": 39,
   "metadata": {},
   "outputs": [
    {
     "data": {
      "text/plain": [
       "'Shyam'"
      ]
     },
     "execution_count": 39,
     "metadata": {},
     "output_type": "execute_result"
    }
   ],
   "source": [
    "li[0]"
   ]
  },
  {
   "cell_type": "code",
   "execution_count": 40,
   "metadata": {},
   "outputs": [
    {
     "data": {
      "text/plain": [
       "[1, 2, 2, 4, 6, 3, 6, 7]"
      ]
     },
     "execution_count": 40,
     "metadata": {},
     "output_type": "execute_result"
    }
   ],
   "source": [
    "li1 = [1,2,2,4,6,3,6,7]\n",
    "li1"
   ]
  },
  {
   "cell_type": "code",
   "execution_count": null,
   "metadata": {},
   "outputs": [],
   "source": []
  }
 ],
 "metadata": {
  "kernelspec": {
   "display_name": "Python 3",
   "language": "python",
   "name": "python3"
  },
  "language_info": {
   "codemirror_mode": {
    "name": "ipython",
    "version": 3
   },
   "file_extension": ".py",
   "mimetype": "text/x-python",
   "name": "python",
   "nbconvert_exporter": "python",
   "pygments_lexer": "ipython3",
   "version": "3.8.8"
  }
 },
 "nbformat": 4,
 "nbformat_minor": 4
}
