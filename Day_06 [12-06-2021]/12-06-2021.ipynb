{
 "cells": [
  {
   "cell_type": "markdown",
   "metadata": {},
   "source": [
    "-  nested for\n",
    "    - for loop inside for loop\n",
    "    - which is mainly used for pattern solving\n",
    "-  nested while\n",
    "    - while loop inside while loop\n",
    "    \n",
    "- jump statements\n",
    "    - break\n",
    "    - continue\n"
   ]
  },
  {
   "cell_type": "code",
   "execution_count": null,
   "metadata": {},
   "outputs": [],
   "source": [
    "Syntax of nested for loop\n",
    "\n",
    "for variable in range(start,end,step):\n",
    "    statements\n",
    "    for varaible in range(start,end,step):\n",
    "        statements\n",
    "        ---\n",
    "        --\n",
    "        --"
   ]
  },
  {
   "cell_type": "code",
   "execution_count": 2,
   "metadata": {},
   "outputs": [
    {
     "name": "stdout",
     "output_type": "stream",
     "text": [
      "enter starting range: 6\n",
      "enter end range: 12\n",
      "7 11 "
     ]
    }
   ],
   "source": [
    "## Prime numbers range/series\n",
    "#### input: 1 -- 10\n",
    "### output: 2 3 5 7\n",
    "\n",
    "sr = int(input('enter starting range: '))\n",
    "er = int(input('enter end range: '))\n",
    "for i in range(sr,er+1): ## 1 2 3 4 5 6 7 8 9 10\n",
    "    fc = 0\n",
    "    for j in range(1,i+1):\n",
    "        if(i%j==0):\n",
    "            fc += 1\n",
    "    if(fc == 2):\n",
    "        print(i,end=' ')\n",
    "        \n",
    "    \n",
    "    \n"
   ]
  },
  {
   "cell_type": "markdown",
   "metadata": {},
   "source": [
    "#### Task\n",
    "- perfect numbers series"
   ]
  },
  {
   "cell_type": "code",
   "execution_count": 8,
   "metadata": {},
   "outputs": [
    {
     "name": "stdout",
     "output_type": "stream",
     "text": [
      "@  @  @  @  \n",
      "\n",
      "@  @  @  @  \n",
      "\n",
      "@  @  @  @  \n",
      "\n",
      "@  @  @  @  \n",
      "\n"
     ]
    }
   ],
   "source": [
    "# @ @ @ @\n",
    "# @ @ @ @\n",
    "# @ @ @ @\n",
    "# @ @ @ @\n",
    "\n",
    "for i in range(1,5):\n",
    "    for j in range(1,5):\n",
    "        print('@ ',end=' ')\n",
    "    print('\\n')\n",
    "    \n",
    "    \n"
   ]
  },
  {
   "cell_type": "code",
   "execution_count": null,
   "metadata": {},
   "outputs": [],
   "source": []
  },
  {
   "cell_type": "code",
   "execution_count": null,
   "metadata": {},
   "outputs": [],
   "source": []
  },
  {
   "cell_type": "code",
   "execution_count": null,
   "metadata": {},
   "outputs": [],
   "source": []
  },
  {
   "cell_type": "code",
   "execution_count": null,
   "metadata": {},
   "outputs": [],
   "source": []
  },
  {
   "cell_type": "code",
   "execution_count": null,
   "metadata": {},
   "outputs": [],
   "source": []
  },
  {
   "cell_type": "code",
   "execution_count": null,
   "metadata": {},
   "outputs": [],
   "source": []
  }
 ],
 "metadata": {
  "kernelspec": {
   "display_name": "Python 3",
   "language": "python",
   "name": "python3"
  },
  "language_info": {
   "codemirror_mode": {
    "name": "ipython",
    "version": 3
   },
   "file_extension": ".py",
   "mimetype": "text/x-python",
   "name": "python",
   "nbconvert_exporter": "python",
   "pygments_lexer": "ipython3",
   "version": "3.8.3"
  }
 },
 "nbformat": 4,
 "nbformat_minor": 4
}
