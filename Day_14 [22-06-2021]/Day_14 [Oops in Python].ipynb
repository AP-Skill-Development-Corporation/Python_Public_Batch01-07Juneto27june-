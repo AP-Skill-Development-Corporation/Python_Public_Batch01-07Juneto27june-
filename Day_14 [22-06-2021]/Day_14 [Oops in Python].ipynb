{
 "cells": [
  {
   "cell_type": "code",
   "execution_count": null,
   "id": "0bd228d7",
   "metadata": {},
   "outputs": [],
   "source": [
    "#Agenda of the day:\n",
    "                          1. Inheritance \n",
    "                                - Single Level\n",
    "                                - Multi Level\n",
    "                                - Heiraicial \n",
    "                                - Multiple \n",
    "                          2. Polymorphsim\n",
    "                                   - Complile Time  (method overloading)\n",
    "                                   - RunTime    (method overriding)\n",
    "                          3. Data Abstraction\n",
    "                          \n",
    "                          4. Data Encapusualtion & Data Hiding\n",
    "                    "
   ]
  },
  {
   "cell_type": "code",
   "execution_count": null,
   "id": "63315c07",
   "metadata": {},
   "outputs": [],
   "source": [
    "#Inheritance:\n",
    "     A class(derived or child class) which inherits or accuring the \n",
    "     properties of another class (base or parent class) id called\n",
    "        Inheritance.\n",
    "                  inheritance\n",
    "    Parent class--------->     Child class\n",
    "        (to accuring the properties of parent to child)\n",
    "#Note: By Using interitance concept we make code resuablity.\n"
   ]
  },
  {
   "cell_type": "code",
   "execution_count": 15,
   "id": "428f256f",
   "metadata": {},
   "outputs": [
    {
     "name": "stdout",
     "output_type": "stream",
     "text": [
      "50\n",
      "10\n",
      "subtraction of c and d is: 40\n",
      "10\n",
      "20\n",
      "sum of a and b is 30\n"
     ]
    }
   ],
   "source": [
    "#Single_Level:\n",
    "class arthematic:                    #parent-super-base-class\n",
    "    a = 10\n",
    "    b = 20\n",
    "    def add(self):\n",
    "        sums = self.a+self.b\n",
    "        print(\"sum of a and b is\",sums)\n",
    "class addition(arthematic):                   #child-sub-derived-class\n",
    "    c = 50\n",
    "    d = 10\n",
    "    def sub(self):\n",
    "        subs =self.c-self.d\n",
    "        print(\"subtraction of c and d is:\",subs)\n",
    "ob = addition()\n",
    "print(ob.c)\n",
    "print(ob.d)\n",
    "ob.sub()\n",
    "print(ob.a)\n",
    "print(ob.b)\n",
    "ob.add()"
   ]
  },
  {
   "cell_type": "code",
   "execution_count": null,
   "id": "df1dab5a",
   "metadata": {},
   "outputs": [],
   "source": [
    "#Multi-Level Inheritance:\n",
    "parent1class----->parent2class---->child2class\n",
    "\n",
    "                  (child & parent)"
   ]
  },
  {
   "cell_type": "code",
   "execution_count": 53,
   "id": "fcd0af07",
   "metadata": {},
   "outputs": [
    {
     "name": "stdout",
     "output_type": "stream",
     "text": [
      "10\n",
      "20\n",
      "sum of a and b is: 30\n",
      "multiplication of a and b is 200\n",
      "substraction of b and a is: 10\n"
     ]
    },
    {
     "data": {
      "text/plain": [
       "50"
      ]
     },
     "execution_count": 53,
     "metadata": {},
     "output_type": "execute_result"
    }
   ],
   "source": [
    "#Example:(Multilevel---->one or more parent class)\n",
    "class addition:\n",
    "    c=50\n",
    "    d=100                        #class variables\n",
    "    def __init__(self,a,b):\n",
    "        self.a=a\n",
    "        self.b=b                     #a,b instance variables\n",
    "    def add(self,a,b):\n",
    "        sums = self.a+self.b\n",
    "        print(\"sum of a and b is:\",sums)\n",
    "class substraction(addition):           #level1-inheritance\n",
    "    def sub(self,a,b):\n",
    "        subs = self.b-self.a\n",
    "        print(\"substraction of b and a is:\",subs)\n",
    "class multiplication(substraction):             #level-2 inheritance\n",
    "    def mul(self,a,b):\n",
    "        multi = self.a * self.b\n",
    "        print(\"multiplication of a and b is\",multi)\n",
    "a = int(input())\n",
    "b = int(input())\n",
    "\n",
    "obj= multiplication(a,b)\n",
    "obj.add(a,b)\n",
    "obj.mul(a,b)\n",
    "obj.sub(a,b)\n",
    "obj.c"
   ]
  },
  {
   "cell_type": "code",
   "execution_count": null,
   "id": "1f517f75",
   "metadata": {},
   "outputs": [],
   "source": [
    "#Multiple Inheritance:\n",
    " A class which is inherits the properties of more than one parent class."
   ]
  },
  {
   "cell_type": "code",
   "execution_count": 63,
   "id": "7102495e",
   "metadata": {},
   "outputs": [
    {
     "name": "stdout",
     "output_type": "stream",
     "text": [
      "50 100\n",
      "This is child1 class\n",
      "This is Parent2 class\n",
      "This is Parent1 class\n",
      "This is Uncle Class\n",
      "This is Parent1 class\n"
     ]
    }
   ],
   "source": [
    "#Multile Inheritance: (2 Baseclasses, one child class)\n",
    "class Father:                       #baseclass-1\n",
    "    a =50\n",
    "    b =100\n",
    "    print(a,b)\n",
    "    def parent1info(self):\n",
    "        print(\"This is Parent1 class\")\n",
    "\n",
    "class Mother:                              #baseclass-2\n",
    "    def parent2info(self):\n",
    "        print(\"This is Parent2 class\")\n",
    "class Uncle:\n",
    "    def uncleinfo(self):\n",
    "        print(\"This is Uncle Class\")\n",
    "\n",
    "class kid(Father,Mother,Uncle):     #multiple inheritance\n",
    "    def childinfo(self):\n",
    "        print(\"This is child1 class\")\n",
    "class kid2(Father,Mother):\n",
    "    def child2info(self):\n",
    "        print(\"This is child2 class\")\n",
    "obj = kid()\n",
    "obj1 = kid2()\n",
    "obj.childinfo()\n",
    "obj.parent2info()\n",
    "obj.parent1info()\n",
    "obj.uncleinfo()\n",
    "obj1.parent1info()"
   ]
  },
  {
   "cell_type": "code",
   "execution_count": null,
   "id": "5acd45a5",
   "metadata": {},
   "outputs": [],
   "source": [
    "#Hierarchical Inheritance:(1 Base Class, 2 Derived classes)\n",
    "\n",
    "  \n",
    "            "
   ]
  },
  {
   "cell_type": "code",
   "execution_count": 76,
   "id": "b1e51054",
   "metadata": {},
   "outputs": [
    {
     "name": "stdout",
     "output_type": "stream",
     "text": [
      "This is Child1 Class\n",
      "This is Main Base Class\n",
      "This is Child2 Class\n",
      "This is Main Base Class\n",
      "This is Main Base Class\n"
     ]
    }
   ],
   "source": [
    "#Example: Hierarchical Inheritance\n",
    "class Father:\n",
    "    def Fatherinfo(self):\n",
    "        print(\"This is Main Base Class\")\n",
    "class Son(Father):\n",
    "    def child1info(self):\n",
    "        print(\"This is Child1 Class\")\n",
    "class Daughter(Father):\n",
    "    def child2info(self):\n",
    "        print(\"This is Child2 Class\")\n",
    "objs = Son()\n",
    "objs.child1info()\n",
    "objs.Fatherinfo()\n",
    "#objs.child2info()\n",
    "objd = Daughter()\n",
    "objd.child2info()\n",
    "objd.Fatherinfo()\n",
    "#objd.child1info()\n",
    "objf=Father()\n",
    "objf.Fatherinfo()\n",
    "#objf.child2info()"
   ]
  },
  {
   "cell_type": "code",
   "execution_count": null,
   "id": "21255540",
   "metadata": {},
   "outputs": [],
   "source": []
  }
 ],
 "metadata": {
  "kernelspec": {
   "display_name": "Python 3",
   "language": "python",
   "name": "python3"
  },
  "language_info": {
   "codemirror_mode": {
    "name": "ipython",
    "version": 3
   },
   "file_extension": ".py",
   "mimetype": "text/x-python",
   "name": "python",
   "nbconvert_exporter": "python",
   "pygments_lexer": "ipython3",
   "version": "3.8.8"
  }
 },
 "nbformat": 4,
 "nbformat_minor": 5
}
