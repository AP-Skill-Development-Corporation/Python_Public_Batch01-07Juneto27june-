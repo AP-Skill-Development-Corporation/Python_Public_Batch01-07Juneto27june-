{
 "cells": [
  {
   "cell_type": "markdown",
   "metadata": {},
   "source": [
    "#### if...elif..else\n",
    "#### nested..if\n"
   ]
  },
  {
   "cell_type": "markdown",
   "metadata": {},
   "source": [
    "- Syntax\n",
    "\n",
    "if(condition):\n",
    "    statements\n",
    "elif(condition):\n",
    "    statements\n",
    "elif(condition):\n",
    "    statments\n",
    "    \n",
    "----\n",
    "----\n",
    "\n",
    "else:\n",
    "    statements"
   ]
  },
  {
   "cell_type": "code",
   "execution_count": 2,
   "metadata": {},
   "outputs": [
    {
     "name": "stdout",
     "output_type": "stream",
     "text": [
      "enter number: 89\n",
      "Invalid\n"
     ]
    }
   ],
   "source": [
    "## input: 5\n",
    "## Output: Five\n",
    "## input: 0\n",
    "## Output: Zero\n",
    "\n",
    "n = int(input('enter number: '))\n",
    "if(n == 0):\n",
    "    print('Zero')\n",
    "elif(n == 1):\n",
    "    print('One')\n",
    "elif(n == 2):\n",
    "    print('Two')\n",
    "elif(n == 3):\n",
    "    print('Three')\n",
    "elif(n == 4):\n",
    "    print('Four')\n",
    "elif(n == 5):\n",
    "    print('Five')\n",
    "elif(n == 6):\n",
    "    print('Six')\n",
    "elif(n == 7):\n",
    "    print('Seven')\n",
    "elif(n == 8):\n",
    "    print('Eight')\n",
    "elif(n == 9):\n",
    "    print('Nine')\n",
    "else:\n",
    "    print('Invalid')"
   ]
  },
  {
   "cell_type": "code",
   "execution_count": 4,
   "metadata": {},
   "outputs": [
    {
     "name": "stdout",
     "output_type": "stream",
     "text": [
      "enter a number: 9\n",
      "enter b number: 6\n",
      "enter operator: ;\n",
      "Invalid operator\n"
     ]
    }
   ],
   "source": [
    "## Mathematical operations\n",
    "## input: + ,4,5\n",
    "## output: 9\n",
    "## input: - \n",
    "## output: -1\n",
    "\n",
    "a = int(input('enter a number: '))\n",
    "b = int(input('enter b number: '))\n",
    "op = input('enter operator: ')\n",
    "if(op == '+'):\n",
    "    print(a+b)\n",
    "elif(op == '-'):\n",
    "    print(a-b)\n",
    "elif(op == '*'):\n",
    "    print(a*b)\n",
    "elif(op == '/'):\n",
    "    print(a/b)\n",
    "elif(op == '%'):\n",
    "    print(a%b)\n",
    "else:\n",
    "    print('Invalid operator')"
   ]
  },
  {
   "cell_type": "markdown",
   "metadata": {},
   "source": [
    "-- nested..if Syntax\n",
    "\n",
    "if(condition):\n",
    "    if(condition):\n",
    "        statements\n",
    "    else:\n",
    "        statements\n"
   ]
  },
  {
   "cell_type": "code",
   "execution_count": 8,
   "metadata": {},
   "outputs": [
    {
     "name": "stdout",
     "output_type": "stream",
     "text": [
      "enter user id: 789\n",
      "Invalid user_id\n"
     ]
    }
   ],
   "source": [
    "### 1--150\n",
    "## pw: 12345\n",
    "\n",
    "### u_id\n",
    "    ### enter pwd: == 12345\n",
    "        ### Succussfully completed\n",
    "    ### wrong pwd\n",
    "### Invalid user_id\n",
    "\n",
    "u_id = int(input('enter user id: '))\n",
    "if(u_id>=1 and u_id<=150):\n",
    "    pwd = int(input('enter pwd: '))\n",
    "    if(pwd == 12345):\n",
    "        print('Successfully completed')\n",
    "    else:\n",
    "        print('Wrong password')\n",
    "else:\n",
    "    print('Invalid user_id')\n",
    "    \n",
    "        \n",
    "    "
   ]
  },
  {
   "cell_type": "code",
   "execution_count": null,
   "metadata": {},
   "outputs": [],
   "source": []
  },
  {
   "cell_type": "markdown",
   "metadata": {},
   "source": [
    "## Iterations(Loops)\n",
    "\n",
    "\n",
    "- Repeat the sequence of code until a specific condition false\n",
    "\n",
    "\n",
    "- for\n",
    "- while\n",
    "- nested for\n",
    "- nested while"
   ]
  },
  {
   "cell_type": "code",
   "execution_count": 11,
   "metadata": {},
   "outputs": [
    {
     "name": "stdout",
     "output_type": "stream",
     "text": [
      "Apple\n",
      "Apple\n",
      "Apple\n",
      "Apple\n",
      "Apple\n"
     ]
    }
   ],
   "source": [
    "print('Apple')\n",
    "print('Apple')\n",
    "print('Apple')\n",
    "print('Apple')\n",
    "print(\"Apple\")"
   ]
  },
  {
   "cell_type": "markdown",
   "metadata": {},
   "source": [
    "- Syntax of for loop\n",
    "\n",
    "for variable in range(start,end,step):\n",
    "    statements/logic"
   ]
  },
  {
   "cell_type": "code",
   "execution_count": 12,
   "metadata": {},
   "outputs": [
    {
     "name": "stdout",
     "output_type": "stream",
     "text": [
      "1\n",
      "3\n",
      "5\n",
      "7\n",
      "9\n"
     ]
    }
   ],
   "source": [
    "for i in range(1,10,2):\n",
    "    print(i)"
   ]
  },
  {
   "cell_type": "code",
   "execution_count": null,
   "metadata": {},
   "outputs": [],
   "source": [
    "i = 1\n",
    "i + 2\n",
    "1+2 = 3"
   ]
  },
  {
   "cell_type": "code",
   "execution_count": 13,
   "metadata": {},
   "outputs": [
    {
     "name": "stdout",
     "output_type": "stream",
     "text": [
      "0\n",
      "1\n",
      "2\n",
      "3\n",
      "4\n"
     ]
    }
   ],
   "source": [
    "for i in range(5):\n",
    "    print(i)"
   ]
  },
  {
   "cell_type": "code",
   "execution_count": 14,
   "metadata": {},
   "outputs": [
    {
     "name": "stdout",
     "output_type": "stream",
     "text": [
      "1\n",
      "2\n",
      "3\n",
      "4\n",
      "5\n",
      "6\n",
      "7\n",
      "8\n",
      "9\n"
     ]
    }
   ],
   "source": [
    "for i in range(1,10):\n",
    "    print(i)"
   ]
  },
  {
   "cell_type": "code",
   "execution_count": 21,
   "metadata": {},
   "outputs": [
    {
     "name": "stdout",
     "output_type": "stream",
     "text": [
      "1 2 3 4 5 6 7 8 9 "
     ]
    }
   ],
   "source": [
    "for i in range(1,10):\n",
    "    print(i,end= ' ')"
   ]
  },
  {
   "cell_type": "code",
   "execution_count": 28,
   "metadata": {},
   "outputs": [
    {
     "name": "stdout",
     "output_type": "stream",
     "text": [
      "10 9 8 7 6 5 4 3 2 1 "
     ]
    }
   ],
   "source": [
    "for i in range(10,0,-1):\n",
    "    print(i,end=' ')"
   ]
  },
  {
   "cell_type": "code",
   "execution_count": 32,
   "metadata": {},
   "outputs": [
    {
     "name": "stdout",
     "output_type": "stream",
     "text": [
      "10\n",
      "Sum of 10 numbers is:  55\n"
     ]
    }
   ],
   "source": [
    "## Sum of n natural numbers\n",
    "\n",
    "## input: 10\n",
    "## output: Sum of 10 number is: 55\n",
    "\n",
    "n = int(input())\n",
    "s = 0\n",
    "for i in range(1,n+1):\n",
    "    s = s + i ## s += i\n",
    "print('Sum of',n,'numbers is: ',s)\n"
   ]
  },
  {
   "cell_type": "code",
   "execution_count": 33,
   "metadata": {},
   "outputs": [
    {
     "name": "stdout",
     "output_type": "stream",
     "text": [
      "23\n",
      "30\n",
      "212\n"
     ]
    }
   ],
   "source": [
    "sr = int(input())\n",
    "er = int(input())\n",
    "s = 0\n",
    "for i in range(sr,er+1):\n",
    "    s += i\n",
    "print(s)"
   ]
  },
  {
   "cell_type": "code",
   "execution_count": 34,
   "metadata": {},
   "outputs": [
    {
     "name": "stdout",
     "output_type": "stream",
     "text": [
      "5\n",
      "5 * 1 = 5\n",
      "5 * 2 = 10\n",
      "5 * 3 = 15\n",
      "5 * 4 = 20\n",
      "5 * 5 = 25\n",
      "5 * 6 = 30\n",
      "5 * 7 = 35\n",
      "5 * 8 = 40\n",
      "5 * 9 = 45\n",
      "5 * 10 = 50\n"
     ]
    }
   ],
   "source": [
    "## Table \n",
    "## 5\n",
    "## 5 * 1 = 5\n",
    "## 5 * 2 = 10\n",
    "# --\n",
    "# --\n",
    "## 5 * 10 = 50\n",
    "\n",
    "t = int(input())\n",
    "for i in range(1,11):\n",
    "    print(t,'*',i,'=',t*i)"
   ]
  },
  {
   "cell_type": "code",
   "execution_count": 40,
   "metadata": {},
   "outputs": [
    {
     "name": "stdout",
     "output_type": "stream",
     "text": [
      "Lower case letters are: \n",
      "a b c d e f g h i j k l m n o p q r s t u v w x y z \n",
      "Upper case letters are: \n",
      "A B C D E F G H I J K L M N O P Q R S T U V W X Y Z "
     ]
    }
   ],
   "source": [
    "### print alphabets\n",
    "## a to z  97 -- 122\n",
    "## A to Z  65 -- 90\n",
    "print('Lower case letters are: ')\n",
    "for i in range(97,123):\n",
    "    print(chr(i),end=' ')\n",
    "print('\\nUpper case letters are: ')\n",
    "for j in range(65,91):\n",
    "    print(chr(j),end=' ')"
   ]
  },
  {
   "cell_type": "code",
   "execution_count": 38,
   "metadata": {},
   "outputs": [
    {
     "name": "stdout",
     "output_type": "stream",
     "text": [
      "97\n",
      "122\n",
      "65\n",
      "90\n",
      "c\n"
     ]
    }
   ],
   "source": [
    "print(ord('a'))\n",
    "print(ord('z'))\n",
    "print(ord('A'))\n",
    "print(ord('Z'))\n",
    "print(chr(99))"
   ]
  },
  {
   "cell_type": "code",
   "execution_count": 47,
   "metadata": {},
   "outputs": [
    {
     "name": "stdout",
     "output_type": "stream",
     "text": [
      "67\n",
      "156\n",
      "Even numbers are: \n",
      "68 70 72 74 76 78 80 82 84 86 88 90 92 94 96 98 100 102 104 106 108 110 112 114 116 118 120 122 124 126 128 130 132 134 136 138 140 142 144 146 148 150 152 154 156 \n",
      "Odd numbers are\n",
      "67 69 71 73 75 77 79 81 83 85 87 89 91 93 95 97 99 101 103 105 107 109 111 113 115 117 119 121 123 125 127 129 131 133 135 137 139 141 143 145 147 149 151 153 155 "
     ]
    }
   ],
   "source": [
    "## 1 -- 10\n",
    "## Even numbers are:\n",
    "## 2 4 6 8 10\n",
    "## Odd number are:\n",
    "## 1 3 5 7 9\n",
    "\n",
    "sr = int(input())\n",
    "er = int(input())\n",
    "print('Even numbers are: ')\n",
    "for i in range(sr,er+1):\n",
    "    if(i%2 == 0):\n",
    "        print(i,end=' ')\n",
    "print('\\nOdd numbers are')\n",
    "for j in range(sr,er+1):\n",
    "    if(j%2 == 1): ## j%2 != 0\n",
    "        print(j,end=' ')"
   ]
  },
  {
   "cell_type": "code",
   "execution_count": null,
   "metadata": {},
   "outputs": [],
   "source": []
  },
  {
   "cell_type": "code",
   "execution_count": null,
   "metadata": {},
   "outputs": [],
   "source": []
  },
  {
   "cell_type": "code",
   "execution_count": 50,
   "metadata": {},
   "outputs": [
    {
     "name": "stdout",
     "output_type": "stream",
     "text": [
      "9\n",
      "Not prime number\n"
     ]
    }
   ],
   "source": [
    "## Prime number\n",
    "\n",
    "n = int(input())\n",
    "fc = 0\n",
    "for i in range(1,n+1):\n",
    "    if(n%i == 0):\n",
    "        fc = fc + 1  ## fc += 1\n",
    "if(fc == 2):\n",
    "    print('Prime Number')\n",
    "else:\n",
    "    print(\"Not prime number\")\n",
    "    \n",
    "        "
   ]
  },
  {
   "cell_type": "markdown",
   "metadata": {},
   "source": [
    "### Task\n",
    "\n",
    "1. Positive or Negative\n",
    "2. Check the given number is divisible by 5 and as well as 11\n",
    "3. Days printing\n",
    "4. \n",
    "    - Child (0--12 years)\n",
    "    - Teenager (13 -- 18 years)\n",
    "    - Adult (19 --59 years)\n",
    "    - Senior adult (60  and above)\n",
    "5. Check the given input is Digit or Alphabet  or Special symbol\n",
    "\n"
   ]
  },
  {
   "cell_type": "code",
   "execution_count": 6,
   "metadata": {},
   "outputs": [
    {
     "name": "stdout",
     "output_type": "stream",
     "text": [
      "enter number: 56\n",
      "Positive number\n"
     ]
    }
   ],
   "source": [
    "## Positive or Negative\n",
    "\n",
    "n = int(input('enter number: '))\n",
    "if(n>0):\n",
    "    print('Positive number')\n",
    "elif(n<0):\n",
    "    print('Negative number')\n",
    "else:\n",
    "    print('Zero')"
   ]
  },
  {
   "cell_type": "code",
   "execution_count": 8,
   "metadata": {},
   "outputs": [
    {
     "name": "stdout",
     "output_type": "stream",
     "text": [
      "enter number: 55\n",
      "55\n"
     ]
    }
   ],
   "source": [
    "## Check the given number is divisible by 5 and as well as 11\n",
    "\n",
    "num = int(input('enter number: '))\n",
    "if((num%5==0) and (num%11==0)):\n",
    "    print(num)\n"
   ]
  },
  {
   "cell_type": "code",
   "execution_count": 10,
   "metadata": {},
   "outputs": [
    {
     "name": "stdout",
     "output_type": "stream",
     "text": [
      "89\n",
      "Wrong choice\n"
     ]
    }
   ],
   "source": [
    "## Days printing\n",
    "\n",
    "t = int(input())\n",
    "if(t==1):\n",
    "    print('Sunday')\n",
    "elif(t==2):\n",
    "    print('Monday')\n",
    "elif(t==3):\n",
    "    print('Tuesday')\n",
    "elif(t==4):\n",
    "    print('Wednesday')\n",
    "elif(t==5):\n",
    "    print('Thursday')\n",
    "elif(t==6):\n",
    "    print('Friday')\n",
    "elif(t==7):\n",
    "    print('Saturday')\n",
    "else:\n",
    "    print('Wrong choice')"
   ]
  },
  {
   "cell_type": "code",
   "execution_count": 15,
   "metadata": {},
   "outputs": [
    {
     "name": "stdout",
     "output_type": "stream",
     "text": [
      "-9\n",
      "Invalid\n"
     ]
    }
   ],
   "source": [
    "#  - Child (0--12 years)\n",
    "#     - Teenager (13 -- 18 years)\n",
    "#     - Adult (19 --59 years)\n",
    "#     - Senior adult (60  and above)\n",
    "\n",
    "age = int(input())\n",
    "if(age>0):\n",
    "    if(age>0 and age<=12):\n",
    "        print('Child')\n",
    "    elif(age>=13 and age<=18):\n",
    "        print('Teenager')\n",
    "    elif(age>=19 and age<=59):\n",
    "        print('Adult')\n",
    "    else:\n",
    "        print('Senior adult')\n",
    "else:\n",
    "    print('Invalid')"
   ]
  },
  {
   "cell_type": "code",
   "execution_count": 19,
   "metadata": {},
   "outputs": [
    {
     "name": "stdout",
     "output_type": "stream",
     "text": [
      "enter input: 99\n",
      "Special Symbol\n"
     ]
    }
   ],
   "source": [
    "# Check the given input is Digit or Alphabet  or Special symbol\n",
    "## 0---9 -->Digit\n",
    "## a--z or A--Z --> Alphabets\n",
    "## special symbol\n",
    "\n",
    "ch = input('enter input: ')\n",
    "if(ch>='0' and ch<='9'):\n",
    "    print('Digit')\n",
    "elif((ch>='a' and ch<='z') or (ch>='A' and ch<='Z')):\n",
    "    print('Alphabet')\n",
    "else:\n",
    "    print('Special Symbol')\n",
    "    \n"
   ]
  },
  {
   "cell_type": "code",
   "execution_count": 25,
   "metadata": {},
   "outputs": [
    {
     "name": "stdout",
     "output_type": "stream",
     "text": [
      "enter number: 6\n",
      "720\n"
     ]
    }
   ],
   "source": [
    "## factorial of number\n",
    "\n",
    "t = int(input('enter number: '))\n",
    "f = 1\n",
    "if(t == 0):\n",
    "    print(f)\n",
    "else:\n",
    "    for i in range(t,0,-1):\n",
    "        f = f*i\n",
    "    print(f)"
   ]
  },
  {
   "cell_type": "code",
   "execution_count": 22,
   "metadata": {},
   "outputs": [
    {
     "name": "stdout",
     "output_type": "stream",
     "text": [
      "enter number: 5\n",
      "120\n"
     ]
    }
   ],
   "source": [
    "\n",
    "t = int(input('enter number: '))\n",
    "f = 1\n",
    "for i in range(1,t+1):\n",
    "    f = f*i\n",
    "print(f)"
   ]
  },
  {
   "cell_type": "code",
   "execution_count": null,
   "metadata": {},
   "outputs": [],
   "source": []
  },
  {
   "cell_type": "code",
   "execution_count": null,
   "metadata": {},
   "outputs": [],
   "source": []
  },
  {
   "cell_type": "markdown",
   "metadata": {},
   "source": [
    "## while\n",
    "\n",
    "- Used to repeat a block of code or sequence as long as the condition false\n",
    "- Syntax:\n",
    "    intialization\n",
    "    while(condition):\n",
    "        statements/logic\n",
    "        incre/decre\n",
    "- Syntax\n",
    "- execution speed is faster than for loop\n",
    "- number of iterations unknown\n"
   ]
  },
  {
   "cell_type": "code",
   "execution_count": 26,
   "metadata": {},
   "outputs": [
    {
     "name": "stdout",
     "output_type": "stream",
     "text": [
      "enter number: 10\n",
      "1 2 3 4 5 6 7 8 9 10 "
     ]
    }
   ],
   "source": [
    "## printing n natural \n",
    "n = int(input('enter number: '))\n",
    "i = 1  ## intialization\n",
    "while(i<=n): ## 1<=10 2<=10 3<=10 --- 10<=10\n",
    "    print(i,end=' ')\n",
    "    i += 1 ## i = i+1\n",
    "    # i -= 1 ## i = i-1\n",
    "\n",
    "    "
   ]
  },
  {
   "cell_type": "code",
   "execution_count": 1,
   "metadata": {},
   "outputs": [
    {
     "name": "stdout",
     "output_type": "stream",
     "text": [
      "1\n",
      "10 9 8 7 6 5 4 3 2 1 "
     ]
    }
   ],
   "source": [
    "n = int(input())\n",
    "i = 10\n",
    "while(i>=n):\n",
    "    print(i,end=' ')\n",
    "    i = i -1 ## i -= 1"
   ]
  },
  {
   "cell_type": "code",
   "execution_count": 7,
   "metadata": {},
   "outputs": [
    {
     "name": "stdout",
     "output_type": "stream",
     "text": [
      "5678\n",
      "Digit count is:  4\n",
      "Digits sum is:  26\n"
     ]
    }
   ],
   "source": [
    "## Number of digits in the given number\n",
    "## input: 5678\n",
    "## output: 4\n",
    "## 5+6+7+8 = 26\n",
    "\n",
    "n = int(input())\n",
    "d_c = 0\n",
    "d_sum = 0\n",
    "while(n!=0):\n",
    "    rem = n%10\n",
    "    n = n//10\n",
    "    d_c = d_c+1\n",
    "    d_sum = d_sum + rem\n",
    "print('Digit count is: ',d_c)\n",
    "print('Digits sum is: ',d_sum)\n",
    "\n",
    "    \n",
    "    "
   ]
  },
  {
   "cell_type": "code",
   "execution_count": 2,
   "metadata": {},
   "outputs": [
    {
     "data": {
      "text/plain": [
       "567"
      ]
     },
     "execution_count": 2,
     "metadata": {},
     "output_type": "execute_result"
    }
   ],
   "source": [
    "n = 5678\n",
    "n//10"
   ]
  },
  {
   "cell_type": "code",
   "execution_count": 3,
   "metadata": {},
   "outputs": [
    {
     "data": {
      "text/plain": [
       "56"
      ]
     },
     "execution_count": 3,
     "metadata": {},
     "output_type": "execute_result"
    }
   ],
   "source": [
    "n = 567\n",
    "n//10"
   ]
  },
  {
   "cell_type": "code",
   "execution_count": 4,
   "metadata": {},
   "outputs": [
    {
     "data": {
      "text/plain": [
       "5"
      ]
     },
     "execution_count": 4,
     "metadata": {},
     "output_type": "execute_result"
    }
   ],
   "source": [
    "n = 56\n",
    "n//10"
   ]
  },
  {
   "cell_type": "code",
   "execution_count": null,
   "metadata": {},
   "outputs": [],
   "source": []
  },
  {
   "cell_type": "code",
   "execution_count": 9,
   "metadata": {},
   "outputs": [
    {
     "name": "stdout",
     "output_type": "stream",
     "text": [
      "345\n",
      "543\n"
     ]
    }
   ],
   "source": [
    "### reverse of the given number\n",
    "## input: 123\n",
    "## output: 321\n",
    "\n",
    "\n",
    "r = int(input())\n",
    "rev = 0\n",
    "while(r!=0):\n",
    "    rem = r%10\n",
    "    rev = rev*10+rem\n",
    "    r = r//10\n",
    "print(rev)\n"
   ]
  },
  {
   "cell_type": "code",
   "execution_count": 10,
   "metadata": {},
   "outputs": [
    {
     "data": {
      "text/plain": [
       "1"
      ]
     },
     "execution_count": 10,
     "metadata": {},
     "output_type": "execute_result"
    }
   ],
   "source": [
    "12//10"
   ]
  },
  {
   "cell_type": "markdown",
   "metadata": {},
   "source": [
    "## Tasks\n",
    "\n",
    "- N natural numbers sum using while loop\n",
    "- check the given number is perfect or not by using for loop\n",
    "- check the given number is paindrom or not by using while loop\n",
    "    - input: 121 -- rev = 121\n",
    "    - output: palindrom\n",
    "- check the given number is Armstrong or not\n",
    "    - input: 153  1^3+5^3+3^3 = 1+125+27 = 153\n",
    "    - outout: Armstrong"
   ]
  },
  {
   "cell_type": "code",
   "execution_count": null,
   "metadata": {},
   "outputs": [],
   "source": []
  },
  {
   "cell_type": "code",
   "execution_count": null,
   "metadata": {},
   "outputs": [],
   "source": []
  },
  {
   "cell_type": "code",
   "execution_count": null,
   "metadata": {},
   "outputs": [],
   "source": []
  },
  {
   "cell_type": "code",
   "execution_count": null,
   "metadata": {},
   "outputs": [],
   "source": []
  },
  {
   "cell_type": "code",
   "execution_count": null,
   "metadata": {},
   "outputs": [],
   "source": []
  },
  {
   "cell_type": "code",
   "execution_count": null,
   "metadata": {},
   "outputs": [],
   "source": []
  },
  {
   "cell_type": "code",
   "execution_count": null,
   "metadata": {},
   "outputs": [],
   "source": []
  },
  {
   "cell_type": "code",
   "execution_count": null,
   "metadata": {},
   "outputs": [],
   "source": []
  },
  {
   "cell_type": "code",
   "execution_count": null,
   "metadata": {},
   "outputs": [],
   "source": []
  },
  {
   "cell_type": "code",
   "execution_count": null,
   "metadata": {},
   "outputs": [],
   "source": []
  },
  {
   "cell_type": "code",
   "execution_count": null,
   "metadata": {},
   "outputs": [],
   "source": []
  },
  {
   "cell_type": "code",
   "execution_count": null,
   "metadata": {},
   "outputs": [],
   "source": []
  },
  {
   "cell_type": "code",
   "execution_count": null,
   "metadata": {},
   "outputs": [],
   "source": []
  },
  {
   "cell_type": "code",
   "execution_count": null,
   "metadata": {},
   "outputs": [],
   "source": []
  },
  {
   "cell_type": "code",
   "execution_count": null,
   "metadata": {},
   "outputs": [],
   "source": []
  },
  {
   "cell_type": "code",
   "execution_count": null,
   "metadata": {},
   "outputs": [],
   "source": []
  },
  {
   "cell_type": "code",
   "execution_count": null,
   "metadata": {},
   "outputs": [],
   "source": []
  },
  {
   "cell_type": "code",
   "execution_count": null,
   "metadata": {},
   "outputs": [],
   "source": []
  },
  {
   "cell_type": "code",
   "execution_count": null,
   "metadata": {},
   "outputs": [],
   "source": []
  },
  {
   "cell_type": "code",
   "execution_count": null,
   "metadata": {},
   "outputs": [],
   "source": []
  },
  {
   "cell_type": "code",
   "execution_count": null,
   "metadata": {},
   "outputs": [],
   "source": []
  },
  {
   "cell_type": "code",
   "execution_count": null,
   "metadata": {},
   "outputs": [],
   "source": []
  },
  {
   "cell_type": "code",
   "execution_count": null,
   "metadata": {},
   "outputs": [],
   "source": []
  },
  {
   "cell_type": "code",
   "execution_count": null,
   "metadata": {},
   "outputs": [],
   "source": []
  },
  {
   "cell_type": "code",
   "execution_count": null,
   "metadata": {},
   "outputs": [],
   "source": []
  },
  {
   "cell_type": "code",
   "execution_count": null,
   "metadata": {},
   "outputs": [],
   "source": []
  },
  {
   "cell_type": "code",
   "execution_count": null,
   "metadata": {},
   "outputs": [],
   "source": []
  },
  {
   "cell_type": "code",
   "execution_count": null,
   "metadata": {},
   "outputs": [],
   "source": []
  },
  {
   "cell_type": "code",
   "execution_count": null,
   "metadata": {},
   "outputs": [],
   "source": []
  },
  {
   "cell_type": "code",
   "execution_count": null,
   "metadata": {},
   "outputs": [],
   "source": []
  },
  {
   "cell_type": "code",
   "execution_count": null,
   "metadata": {},
   "outputs": [],
   "source": []
  },
  {
   "cell_type": "code",
   "execution_count": null,
   "metadata": {},
   "outputs": [],
   "source": []
  },
  {
   "cell_type": "code",
   "execution_count": null,
   "metadata": {},
   "outputs": [],
   "source": []
  },
  {
   "cell_type": "code",
   "execution_count": 51,
   "metadata": {},
   "outputs": [
    {
     "name": "stdout",
     "output_type": "stream",
     "text": [
      "enter number: 6\n",
      "existed\n"
     ]
    }
   ],
   "source": [
    "r = int(input('enter number: '))\n",
    "if(r>=1 and r<=100):\n",
    "    print('existed')\n",
    "else:\n",
    "    print('not existed')"
   ]
  },
  {
   "cell_type": "code",
   "execution_count": null,
   "metadata": {},
   "outputs": [],
   "source": []
  },
  {
   "cell_type": "code",
   "execution_count": null,
   "metadata": {},
   "outputs": [],
   "source": []
  },
  {
   "cell_type": "code",
   "execution_count": null,
   "metadata": {},
   "outputs": [],
   "source": []
  },
  {
   "cell_type": "code",
   "execution_count": null,
   "metadata": {},
   "outputs": [],
   "source": []
  },
  {
   "cell_type": "code",
   "execution_count": null,
   "metadata": {},
   "outputs": [],
   "source": []
  }
 ],
 "metadata": {
  "kernelspec": {
   "display_name": "Python 3",
   "language": "python",
   "name": "python3"
  },
  "language_info": {
   "codemirror_mode": {
    "name": "ipython",
    "version": 3
   },
   "file_extension": ".py",
   "mimetype": "text/x-python",
   "name": "python",
   "nbconvert_exporter": "python",
   "pygments_lexer": "ipython3",
   "version": "3.8.3"
  }
 },
 "nbformat": 4,
 "nbformat_minor": 4
}
