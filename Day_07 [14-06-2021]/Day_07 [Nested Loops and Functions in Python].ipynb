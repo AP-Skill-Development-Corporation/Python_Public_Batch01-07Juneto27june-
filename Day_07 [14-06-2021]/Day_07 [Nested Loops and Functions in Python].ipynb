{
 "cells": [
  {
   "cell_type": "code",
   "execution_count": null,
   "id": "15ff98e4",
   "metadata": {},
   "outputs": [],
   "source": [
    "#Agenda of the Day:\n",
    "            1. Continue to Nested Loops:\n",
    "            2. Break and Continue Statements\n",
    "            3. Functions in Python\n",
    "            Problem Solving."
   ]
  },
  {
   "cell_type": "code",
   "execution_count": null,
   "id": "317cf6dd",
   "metadata": {},
   "outputs": [],
   "source": [
    "#Nested Loops?\n",
    "        What is the nested loop?\n",
    "          - its refers we can put the any type of loop inside the \n",
    "            any other loop. (loops in another loop.)\n",
    "#How does the nested loops works in python?\n",
    "   (i) first its encounters the outer loop, excutes the first iteration\n",
    "    (ii) then program returns back to top of outer loop completing the\n",
    "        second iteration and again triggering the nested loop."
   ]
  },
  {
   "cell_type": "code",
   "execution_count": null,
   "id": "4206c379",
   "metadata": {},
   "outputs": [],
   "source": [
    "#Why we use nested loops in python?\n",
    "- we nested the loops in python that enables a developer/programmer\n",
    "  to slove even more complex problems."
   ]
  },
  {
   "cell_type": "code",
   "execution_count": null,
   "id": "cdfd843a",
   "metadata": {},
   "outputs": [],
   "source": [
    "#Nested for loops:\n",
    "#syntax:\n",
    "for [1st iterating variable] in [outer loop]:\n",
    "    [do some statements]\n",
    "    for [second iterating variable] in [nested loop]:\n",
    "        [do something]"
   ]
  },
  {
   "cell_type": "code",
   "execution_count": 3,
   "id": "59533a76",
   "metadata": {},
   "outputs": [
    {
     "name": "stdout",
     "output_type": "stream",
     "text": [
      "0 0 0\n",
      "1 0 0\n",
      "1 1 0\n",
      "1 1 1\n",
      "2 0 0\n",
      "2 1 0\n",
      "2 1 1\n",
      "2 2 0\n",
      "2 2 1\n",
      "2 2 2\n"
     ]
    }
   ],
   "source": [
    "#Example:\n",
    "for i in range(3):   #outer loop\n",
    "    for j in range(i+1):   #1st inner loop\n",
    "        for k in range(j+1):  #2nd inner loop\n",
    "            print(i,j,k)"
   ]
  },
  {
   "cell_type": "code",
   "execution_count": 13,
   "id": "2239dde7",
   "metadata": {},
   "outputs": [
    {
     "name": "stdout",
     "output_type": "stream",
     "text": [
      "\n",
      "\n",
      "1 \n",
      "\n",
      "2 2 \n",
      "\n",
      "3 3 3 \n",
      "\n",
      "4 4 4 4 \n",
      "\n"
     ]
    }
   ],
   "source": [
    "#Example: (pattern forming using nested loops)\n",
    "for i in range(5):    #outer loop\n",
    "    for j in range(i):   #1st level inner loop\n",
    "        print(i, end=\" \")\n",
    "    print(\"\\n\")   #for printing new line."
   ]
  },
  {
   "cell_type": "code",
   "execution_count": 8,
   "id": "49e1840b",
   "metadata": {},
   "outputs": [
    {
     "name": "stdout",
     "output_type": "stream",
     "text": [
      "sagar studying in CSE\n",
      "sagar studying in ECE\n",
      "sagar studying in EEE\n",
      "sagar studying in IT\n",
      "navven studying in CSE\n",
      "navven studying in ECE\n",
      "navven studying in EEE\n",
      "navven studying in IT\n",
      "santhosh studying in CSE\n",
      "santhosh studying in ECE\n",
      "santhosh studying in EEE\n",
      "santhosh studying in IT\n",
      "surya studying in CSE\n",
      "surya studying in ECE\n",
      "surya studying in EEE\n",
      "surya studying in IT\n"
     ]
    }
   ],
   "source": [
    "#Example:\n",
    "students = [\"sagar\",\"navven\",\"santhosh\",\"surya\"]\n",
    "branchs = [\"CSE\",\"ECE\",\"EEE\",\"IT\"]\n",
    "for student in students:\n",
    "    for branch in branchs:\n",
    "        print(student +\" studying in \"+branch)"
   ]
  },
  {
   "cell_type": "code",
   "execution_count": null,
   "id": "e94ee128",
   "metadata": {},
   "outputs": [],
   "source": [
    "#Nested While loops?\n",
    "#Syntax:\n",
    "while condition:\n",
    "    #code\n",
    "    while condition:\n",
    "        #piece of coe"
   ]
  },
  {
   "cell_type": "code",
   "execution_count": 17,
   "id": "9bb9e345",
   "metadata": {},
   "outputs": [
    {
     "name": "stdout",
     "output_type": "stream",
     "text": [
      "\n",
      "* \n",
      "* * \n",
      "* * * \n",
      "* * * * \n",
      "* * * * * \n"
     ]
    }
   ],
   "source": [
    "#Example: (Print stars in pattern)\n",
    "i =0  \n",
    "j =0\n",
    "while i<=5:    #outer loop runs n times\n",
    "    while j<i:    #inner loop runs in i times\n",
    "        print(\"*\",end=\" \")\n",
    "        j+=1 #or j= j+1  #increment before inner loop condition\n",
    "    j=0    #re-initialize after leaving inner loop \n",
    "    i+=1    #incremen before checking outer loop condition\n",
    "    print(\"\")"
   ]
  },
  {
   "cell_type": "code",
   "execution_count": 1,
   "id": "c4e14276",
   "metadata": {},
   "outputs": [
    {
     "name": "stdout",
     "output_type": "stream",
     "text": [
      "1 , 5\n",
      "2 , 6\n",
      "3 , 7\n",
      "4 , 8\n"
     ]
    }
   ],
   "source": [
    "#example:\n",
    "i =1\n",
    "j = 5\n",
    "while i <=4:\n",
    "    while j <=8:\n",
    "        print(i,\",\",j)\n",
    "        j+=1\n",
    "        i+=1\n",
    "        "
   ]
  },
  {
   "cell_type": "markdown",
   "id": "46d68b0f",
   "metadata": {},
   "source": [
    "#Break and Continue Statements , pass statements\n",
    "#Break :\n",
    "  #Its used to exit the for loop permanenatly\n",
    "  #its used to break the for loop when we meet a specific condition."
   ]
  },
  {
   "cell_type": "code",
   "execution_count": 23,
   "id": "43ca94aa",
   "metadata": {},
   "outputs": [
    {
     "name": "stdout",
     "output_type": "stream",
     "text": [
      "3\n"
     ]
    }
   ],
   "source": [
    "#Example:\n",
    "li = [1,2,3,4,5,6]\n",
    "n = 3\n",
    "found = False\n",
    "for num in li:\n",
    "    if n ==num:\n",
    "        found = True\n",
    "        break\n",
    "else:\n",
    "    print(\"for loop is terminated\")\n",
    "print(num)"
   ]
  },
  {
   "cell_type": "markdown",
   "id": "7ccb4a8c",
   "metadata": {},
   "source": [
    "#Continue:\n",
    "we can use continue statements inside a for loop to skip the\n",
    "execution of the for loop body for a specific condition."
   ]
  },
  {
   "cell_type": "code",
   "execution_count": 41,
   "id": "1c4bbd3a",
   "metadata": {},
   "outputs": [
    {
     "name": "stdout",
     "output_type": "stream",
     "text": [
      "22\n"
     ]
    }
   ],
   "source": [
    "#Example: (To skip the negative numbers iteration for sum)\n",
    "nums = [1,2,-3,4,-5,6,-8,9,-10]\n",
    "sums= 0\n",
    "for n in nums:\n",
    "    if n <0:\n",
    "        continue #skips the iterations of all negative numbers.\n",
    "    sums = sums+n\n",
    "print(sums)"
   ]
  },
  {
   "cell_type": "code",
   "execution_count": null,
   "id": "ba1729a7",
   "metadata": {},
   "outputs": [],
   "source": [
    "#pass statement:\n",
    "  #Its just like a null statement\n",
    "  #python intrepreter ignore the comments but pass is not ignored\n",
    "# Its like No Operation.(NOP.)\n",
    "\n",
    "for (ini,condition,incre/decre)\n",
    "{\n",
    "    print()\n",
    "}\n",
    "\n",
    "#Syntax:\n",
    "for i in []"
   ]
  },
  {
   "cell_type": "code",
   "execution_count": 48,
   "id": "29d1ae96",
   "metadata": {},
   "outputs": [
    {
     "name": "stdout",
     "output_type": "stream",
     "text": [
      "1 2 3 4 5 6 7 8 9 10 "
     ]
    }
   ],
   "source": [
    "#Example:\n",
    "#li = [10,20,30,40,50,60,70,80,90,100]\n",
    "\n",
    "for i in range(1,11):\n",
    "    print(i,end=\" \")"
   ]
  },
  {
   "cell_type": "code",
   "execution_count": null,
   "id": "0b02c538",
   "metadata": {},
   "outputs": [],
   "source": [
    "#Functions in Python:\n",
    "    What is the function?\n",
    "      - Its a Group of related statements that performs a specific task.\n",
    "#Why we use functions?\n",
    "   - To Avoid code repition.\n",
    "   - To make our complex program into smaller sub programs for easy debug.\n",
    "   - write once and use any times .\n",
    "   - Code resuability."
   ]
  },
  {
   "cell_type": "code",
   "execution_count": null,
   "id": "914e28c2",
   "metadata": {},
   "outputs": [],
   "source": [
    "#How we can create functions in python?\n",
    "   in Python we use def to declare the functions."
   ]
  },
  {
   "cell_type": "code",
   "execution_count": 39,
   "id": "facb87f4",
   "metadata": {},
   "outputs": [
    {
     "name": "stdout",
     "output_type": "stream",
     "text": [
      "35 "
     ]
    }
   ],
   "source": [
    "import keyword\n",
    "print(len(keyword.kwlist),end=\" \")"
   ]
  },
  {
   "cell_type": "code",
   "execution_count": null,
   "id": "a0091aa3",
   "metadata": {},
   "outputs": [],
   "source": [
    "#Syntax for function declaration:\n",
    "                  #function declaration\n",
    "def funtionname(parameters):   #formal parameters\n",
    "    \"\"\"doc string\"\"\"  #this function used to find out even number\n",
    "    \n",
    "    #block of statements\n",
    "    return\n",
    "    \n",
    "functionname(parameters)  #function calling #actual parameters"
   ]
  }
 ],
 "metadata": {
  "kernelspec": {
   "display_name": "Python 3",
   "language": "python",
   "name": "python3"
  },
  "language_info": {
   "codemirror_mode": {
    "name": "ipython",
    "version": 3
   },
   "file_extension": ".py",
   "mimetype": "text/x-python",
   "name": "python",
   "nbconvert_exporter": "python",
   "pygments_lexer": "ipython3",
   "version": "3.8.8"
  }
 },
 "nbformat": 4,
 "nbformat_minor": 5
}
